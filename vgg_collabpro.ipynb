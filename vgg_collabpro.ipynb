{
  "cells": [
    {
      "cell_type": "code",
      "execution_count": 1,
      "metadata": {
        "id": "YoC39Yh4ui46"
      },
      "outputs": [],
      "source": [
        "import math\n",
        "import torch\n",
        "import torch.nn as nn\n",
        "import torch.nn.init as init\n",
        "\n",
        "import os\n",
        "import numpy as np\n",
        "import matplotlib.pyplot as plt\n",
        "from sklearn.metrics import accuracy_score, roc_auc_score, f1_score, recall_score, roc_curve, auc\n",
        "\n",
        "import torch.optim as optim\n",
        "from torch.utils.data import DataLoader, Dataset, random_split\n",
        "from torchvision import transforms, datasets\n",
        "import nibabel as nib\n",
        "from torchvision.transforms import functional as F\n",
        "from natsort import natsorted\n",
        "from sklearn.metrics import roc_curve, roc_auc_score, confusion_matrix\n",
        "\n",
        "import seaborn as sns"
      ]
    },
    {
      "cell_type": "code",
      "execution_count": 2,
      "metadata": {
        "colab": {
          "base_uri": "https://localhost:8080/"
        },
        "id": "IrFQOKn1ui48",
        "outputId": "fa5f0378-c4f4-4de3-e110-67588501402d"
      },
      "outputs": [
        {
          "name": "stdout",
          "output_type": "stream",
          "text": [
            "cuda\n"
          ]
        }
      ],
      "source": [
        "device = torch.device(\"cuda\" if torch.cuda.is_available() else \"cpu\")\n",
        "print(device)"
      ]
    },
    {
      "cell_type": "code",
      "execution_count": 3,
      "metadata": {
        "colab": {
          "base_uri": "https://localhost:8080/"
        },
        "id": "uoHdXnYFunP1",
        "outputId": "d1d458d4-ee67-427c-b474-25935e6accdc"
      },
      "outputs": [
        {
          "name": "stdout",
          "output_type": "stream",
          "text": [
            "/content\n"
          ]
        }
      ],
      "source": [
        "from google.colab import drive\n",
        "drive.mount('/content/gdrive')"
      ]
    },
    {
      "cell_type": "code",
      "execution_count": 4,
      "metadata": {
        "id": "cN_xb2JMui49"
      },
      "outputs": [],
      "source": [
        "class VGG(nn.Module):\n",
        "    def __init__(self, feature_extractor):\n",
        "        super(VGG, self).__init__()\n",
        "        self.feature_extractor = feature_extractor\n",
        "\n",
        "        self.T1_feature_dimension = 1 * 128 * 6 * 6 * 6 #for input size: 192x192x192: 192/2/2/2/2/2, 5 Max Pool\n",
        "\n",
        "        feature_dimension = self.T1_feature_dimension\n",
        "\n",
        "        self.classifier = nn.Sequential(\n",
        "            nn.Dropout(), # commented on 20201230\n",
        "            nn.Linear(feature_dimension, 2048), #nn.Linear(feature_dimension, 1024), \n",
        "            nn.ReLU(True),\n",
        "\n",
        "            nn.Dropout(),\n",
        "            nn.Linear(2048, 512), #nn.Linear(1024, 128), \n",
        "            nn.Sigmoid(),\n",
        "            nn.Linear(512, 2), #nn.Linear(128, 2), \n",
        "            nn.Softmax(dim = 1)\n",
        "        )\n",
        "\n",
        "         # Initialize weights\n",
        "        for m in self.modules():\n",
        "            if isinstance(m, nn.Conv3d):\n",
        "                n = m.kernel_size[0] * m.kernel_size[1] * m.kernel_size[2] * m.out_channels\n",
        "                m.weight.data.normal_(0, math.sqrt(2. / n))\n",
        "                m.bias.data.zero_()\n",
        "\n",
        "    def forward(self, x1):\n",
        "        x1 = self.feature_extractor(x1)\n",
        "        x = x1.view(x1.size(0), -1)\n",
        "\n",
        "        x = self.classifier(x)\n",
        "        return x\n",
        "\n",
        "# 5-27-2021\n",
        "class SE_block(nn.Module):\n",
        "    se_ratio = 16\n",
        "    def __init__(self,ch,ratio=se_ratio):\n",
        "        super(SE_block, self).__init__()\n",
        "\n",
        "        # Both should use the same complex number for initiaization which is then split into real and imaginary parts\n",
        "        # Weight initialiation using the real part\n",
        "        self.globalpooling = nn.AdaptiveAvgPool3d(1)\n",
        "        # Weight initialization using the imag part\n",
        "        self.linear1 = nn.Linear(ch,ch//ratio)\n",
        "        self.relu1 = nn.ReLU()\n",
        "        self.lienar2 = nn.Linear(ch//ratio,ch)\n",
        "        self.sigmoid1 = nn.Sigmoid()\n",
        "        self.ch = ch\n",
        "\n",
        "    def forward(self, x):\n",
        "        x_init=x\n",
        "        x1=self.globalpooling(x).squeeze()\n",
        "        x1=self.linear1(x1)\n",
        "        x1=self.relu1(x1)\n",
        "        x1=self.lienar2(x1)\n",
        "        x1=self.sigmoid1(x1).reshape(x.shape[0],self.ch,1,1,1)\n",
        "\n",
        "        return torch.mul(x_init,x1)\n",
        "\n"
      ]
    },
    {
      "cell_type": "code",
      "execution_count": 5,
      "metadata": {
        "id": "4XBW_NI7ui4-"
      },
      "outputs": [],
      "source": [
        "def make_layers(cfg, batch_norm=True, se_block=True):\n",
        "    layers = []\n",
        "    DropoutRate = 0.10\n",
        "\n",
        "    in_channels = 1\n",
        "\n",
        "    for v in cfg:\n",
        "        if v == 'M':\n",
        "            layers += [nn.MaxPool3d(kernel_size=2, stride=2)] # MaxPool without Dropout # commented on 20201230\n",
        "            #layers += [nn.Dropout(p=DropoutRate), nn.MaxPool3d(kernel_size=2, stride=2)] # MaxPool with Dropout rate of 0.25 # commented on 20201230\n",
        "        else:\n",
        "            if batch_norm:\n",
        "                if se_block:\n",
        "                    conv3d = nn.Conv3d(in_channels, v, kernel_size=3, padding=1)\n",
        "                    se3d = SE_block(ch=v)\n",
        "                    layers += [conv3d, nn.BatchNorm3d(v), se3d, nn.ReLU(inplace=True)]\n",
        "                else:\n",
        "                    conv3d = nn.Conv3d(in_channels, v, kernel_size=3, padding=1)\n",
        "                    layers += [conv3d, nn.BatchNorm3d(v), nn.ReLU(inplace=True)]\n",
        "            else:\n",
        "                layers += [conv3d, nn.ReLU(inplace=True)]\n",
        "            in_channels = v\n",
        "    feature_extractor_T1 = nn.Sequential(*layers)\n",
        "\n",
        "    return feature_extractor_T1\n",
        "\n",
        "cfg = {\n",
        "    'A': [16, 'M', 32, 'M', 64, 64, 'M', 128, 128, 'M', 128, 128], #'A': [32, 'M', 64, 'M', 64, 64, 'M', 128, 128, 'M', 256, 256, 'M'],\n",
        "    'B': [64, 64, 'M', 128, 128, 'M', 256, 256, 'M', 512, 512, 'M', 512, 512, 'M'],\n",
        "    'D': [64, 64, 'M', 128, 128, 'M', 256, 256, 256, 'M', 512, 512, 512, 'M', 512, 512, 512, 'M'],\n",
        "    'E': [16, 16, 'M', 32, 32, 'M', 64, 64, 64, 64, 'M', 128, 128, 128, 128, 'M',\n",
        "          128, 128, 128, 128, 'M'],\n",
        "    'F': [32, 'M', 128, 'M', 512, 'M'],\n",
        "}"
      ]
    },
    {
      "cell_type": "code",
      "execution_count": 6,
      "metadata": {
        "id": "uqOwFzCUui4-"
      },
      "outputs": [],
      "source": [
        "def vgg19_bn():\n",
        "    \"\"\"VGG 19-layer model (configuration 'E') with batch normalization\"\"\"\n",
        "    return VGG(make_layers(cfg['E']))\n",
        "\n",
        "def vgg16_bn():\n",
        "    \"\"\"VGG 16-layer model (configuration 'D') with batch normalization\"\"\"\n",
        "    return VGG(make_layers(cfg['D']))\n",
        "\n",
        "def vgg11_bn():\n",
        "    \"\"\"VGG 11-layer model (configuration 'A') with batch normalization\"\"\"\n",
        "    return VGG(make_layers(cfg['A']))\n",
        "\n",
        "def vgg6_bn():\n",
        "    \"\"\"VGG 8-layer model (configuration 'F') with batch normalization\"\"\"\n",
        "    return VGG(make_layers(cfg['F']))"
      ]
    },
    {
      "cell_type": "code",
      "execution_count": 7,
      "metadata": {
        "colab": {
          "base_uri": "https://localhost:8080/"
        },
        "id": "LK8AvLp8ui4-",
        "outputId": "2e340a56-f3f8-431f-a7f2-63b529334041"
      },
      "outputs": [
        {
          "data": {
            "text/plain": [
              "VGG(\n",
              "  (feature_extractor): Sequential(\n",
              "    (0): Conv3d(1, 16, kernel_size=(3, 3, 3), stride=(1, 1, 1), padding=(1, 1, 1))\n",
              "    (1): BatchNorm3d(16, eps=1e-05, momentum=0.1, affine=True, track_running_stats=True)\n",
              "    (2): SE_block(\n",
              "      (globalpooling): AdaptiveAvgPool3d(output_size=1)\n",
              "      (linear1): Linear(in_features=16, out_features=1, bias=True)\n",
              "      (relu1): ReLU()\n",
              "      (lienar2): Linear(in_features=1, out_features=16, bias=True)\n",
              "      (sigmoid1): Sigmoid()\n",
              "    )\n",
              "    (3): ReLU(inplace=True)\n",
              "    (4): Conv3d(16, 16, kernel_size=(3, 3, 3), stride=(1, 1, 1), padding=(1, 1, 1))\n",
              "    (5): BatchNorm3d(16, eps=1e-05, momentum=0.1, affine=True, track_running_stats=True)\n",
              "    (6): SE_block(\n",
              "      (globalpooling): AdaptiveAvgPool3d(output_size=1)\n",
              "      (linear1): Linear(in_features=16, out_features=1, bias=True)\n",
              "      (relu1): ReLU()\n",
              "      (lienar2): Linear(in_features=1, out_features=16, bias=True)\n",
              "      (sigmoid1): Sigmoid()\n",
              "    )\n",
              "    (7): ReLU(inplace=True)\n",
              "    (8): MaxPool3d(kernel_size=2, stride=2, padding=0, dilation=1, ceil_mode=False)\n",
              "    (9): Conv3d(16, 32, kernel_size=(3, 3, 3), stride=(1, 1, 1), padding=(1, 1, 1))\n",
              "    (10): BatchNorm3d(32, eps=1e-05, momentum=0.1, affine=True, track_running_stats=True)\n",
              "    (11): SE_block(\n",
              "      (globalpooling): AdaptiveAvgPool3d(output_size=1)\n",
              "      (linear1): Linear(in_features=32, out_features=2, bias=True)\n",
              "      (relu1): ReLU()\n",
              "      (lienar2): Linear(in_features=2, out_features=32, bias=True)\n",
              "      (sigmoid1): Sigmoid()\n",
              "    )\n",
              "    (12): ReLU(inplace=True)\n",
              "    (13): Conv3d(32, 32, kernel_size=(3, 3, 3), stride=(1, 1, 1), padding=(1, 1, 1))\n",
              "    (14): BatchNorm3d(32, eps=1e-05, momentum=0.1, affine=True, track_running_stats=True)\n",
              "    (15): SE_block(\n",
              "      (globalpooling): AdaptiveAvgPool3d(output_size=1)\n",
              "      (linear1): Linear(in_features=32, out_features=2, bias=True)\n",
              "      (relu1): ReLU()\n",
              "      (lienar2): Linear(in_features=2, out_features=32, bias=True)\n",
              "      (sigmoid1): Sigmoid()\n",
              "    )\n",
              "    (16): ReLU(inplace=True)\n",
              "    (17): MaxPool3d(kernel_size=2, stride=2, padding=0, dilation=1, ceil_mode=False)\n",
              "    (18): Conv3d(32, 64, kernel_size=(3, 3, 3), stride=(1, 1, 1), padding=(1, 1, 1))\n",
              "    (19): BatchNorm3d(64, eps=1e-05, momentum=0.1, affine=True, track_running_stats=True)\n",
              "    (20): SE_block(\n",
              "      (globalpooling): AdaptiveAvgPool3d(output_size=1)\n",
              "      (linear1): Linear(in_features=64, out_features=4, bias=True)\n",
              "      (relu1): ReLU()\n",
              "      (lienar2): Linear(in_features=4, out_features=64, bias=True)\n",
              "      (sigmoid1): Sigmoid()\n",
              "    )\n",
              "    (21): ReLU(inplace=True)\n",
              "    (22): Conv3d(64, 64, kernel_size=(3, 3, 3), stride=(1, 1, 1), padding=(1, 1, 1))\n",
              "    (23): BatchNorm3d(64, eps=1e-05, momentum=0.1, affine=True, track_running_stats=True)\n",
              "    (24): SE_block(\n",
              "      (globalpooling): AdaptiveAvgPool3d(output_size=1)\n",
              "      (linear1): Linear(in_features=64, out_features=4, bias=True)\n",
              "      (relu1): ReLU()\n",
              "      (lienar2): Linear(in_features=4, out_features=64, bias=True)\n",
              "      (sigmoid1): Sigmoid()\n",
              "    )\n",
              "    (25): ReLU(inplace=True)\n",
              "    (26): Conv3d(64, 64, kernel_size=(3, 3, 3), stride=(1, 1, 1), padding=(1, 1, 1))\n",
              "    (27): BatchNorm3d(64, eps=1e-05, momentum=0.1, affine=True, track_running_stats=True)\n",
              "    (28): SE_block(\n",
              "      (globalpooling): AdaptiveAvgPool3d(output_size=1)\n",
              "      (linear1): Linear(in_features=64, out_features=4, bias=True)\n",
              "      (relu1): ReLU()\n",
              "      (lienar2): Linear(in_features=4, out_features=64, bias=True)\n",
              "      (sigmoid1): Sigmoid()\n",
              "    )\n",
              "    (29): ReLU(inplace=True)\n",
              "    (30): Conv3d(64, 64, kernel_size=(3, 3, 3), stride=(1, 1, 1), padding=(1, 1, 1))\n",
              "    (31): BatchNorm3d(64, eps=1e-05, momentum=0.1, affine=True, track_running_stats=True)\n",
              "    (32): SE_block(\n",
              "      (globalpooling): AdaptiveAvgPool3d(output_size=1)\n",
              "      (linear1): Linear(in_features=64, out_features=4, bias=True)\n",
              "      (relu1): ReLU()\n",
              "      (lienar2): Linear(in_features=4, out_features=64, bias=True)\n",
              "      (sigmoid1): Sigmoid()\n",
              "    )\n",
              "    (33): ReLU(inplace=True)\n",
              "    (34): MaxPool3d(kernel_size=2, stride=2, padding=0, dilation=1, ceil_mode=False)\n",
              "    (35): Conv3d(64, 128, kernel_size=(3, 3, 3), stride=(1, 1, 1), padding=(1, 1, 1))\n",
              "    (36): BatchNorm3d(128, eps=1e-05, momentum=0.1, affine=True, track_running_stats=True)\n",
              "    (37): SE_block(\n",
              "      (globalpooling): AdaptiveAvgPool3d(output_size=1)\n",
              "      (linear1): Linear(in_features=128, out_features=8, bias=True)\n",
              "      (relu1): ReLU()\n",
              "      (lienar2): Linear(in_features=8, out_features=128, bias=True)\n",
              "      (sigmoid1): Sigmoid()\n",
              "    )\n",
              "    (38): ReLU(inplace=True)\n",
              "    (39): Conv3d(128, 128, kernel_size=(3, 3, 3), stride=(1, 1, 1), padding=(1, 1, 1))\n",
              "    (40): BatchNorm3d(128, eps=1e-05, momentum=0.1, affine=True, track_running_stats=True)\n",
              "    (41): SE_block(\n",
              "      (globalpooling): AdaptiveAvgPool3d(output_size=1)\n",
              "      (linear1): Linear(in_features=128, out_features=8, bias=True)\n",
              "      (relu1): ReLU()\n",
              "      (lienar2): Linear(in_features=8, out_features=128, bias=True)\n",
              "      (sigmoid1): Sigmoid()\n",
              "    )\n",
              "    (42): ReLU(inplace=True)\n",
              "    (43): Conv3d(128, 128, kernel_size=(3, 3, 3), stride=(1, 1, 1), padding=(1, 1, 1))\n",
              "    (44): BatchNorm3d(128, eps=1e-05, momentum=0.1, affine=True, track_running_stats=True)\n",
              "    (45): SE_block(\n",
              "      (globalpooling): AdaptiveAvgPool3d(output_size=1)\n",
              "      (linear1): Linear(in_features=128, out_features=8, bias=True)\n",
              "      (relu1): ReLU()\n",
              "      (lienar2): Linear(in_features=8, out_features=128, bias=True)\n",
              "      (sigmoid1): Sigmoid()\n",
              "    )\n",
              "    (46): ReLU(inplace=True)\n",
              "    (47): Conv3d(128, 128, kernel_size=(3, 3, 3), stride=(1, 1, 1), padding=(1, 1, 1))\n",
              "    (48): BatchNorm3d(128, eps=1e-05, momentum=0.1, affine=True, track_running_stats=True)\n",
              "    (49): SE_block(\n",
              "      (globalpooling): AdaptiveAvgPool3d(output_size=1)\n",
              "      (linear1): Linear(in_features=128, out_features=8, bias=True)\n",
              "      (relu1): ReLU()\n",
              "      (lienar2): Linear(in_features=8, out_features=128, bias=True)\n",
              "      (sigmoid1): Sigmoid()\n",
              "    )\n",
              "    (50): ReLU(inplace=True)\n",
              "    (51): MaxPool3d(kernel_size=2, stride=2, padding=0, dilation=1, ceil_mode=False)\n",
              "    (52): Conv3d(128, 128, kernel_size=(3, 3, 3), stride=(1, 1, 1), padding=(1, 1, 1))\n",
              "    (53): BatchNorm3d(128, eps=1e-05, momentum=0.1, affine=True, track_running_stats=True)\n",
              "    (54): SE_block(\n",
              "      (globalpooling): AdaptiveAvgPool3d(output_size=1)\n",
              "      (linear1): Linear(in_features=128, out_features=8, bias=True)\n",
              "      (relu1): ReLU()\n",
              "      (lienar2): Linear(in_features=8, out_features=128, bias=True)\n",
              "      (sigmoid1): Sigmoid()\n",
              "    )\n",
              "    (55): ReLU(inplace=True)\n",
              "    (56): Conv3d(128, 128, kernel_size=(3, 3, 3), stride=(1, 1, 1), padding=(1, 1, 1))\n",
              "    (57): BatchNorm3d(128, eps=1e-05, momentum=0.1, affine=True, track_running_stats=True)\n",
              "    (58): SE_block(\n",
              "      (globalpooling): AdaptiveAvgPool3d(output_size=1)\n",
              "      (linear1): Linear(in_features=128, out_features=8, bias=True)\n",
              "      (relu1): ReLU()\n",
              "      (lienar2): Linear(in_features=8, out_features=128, bias=True)\n",
              "      (sigmoid1): Sigmoid()\n",
              "    )\n",
              "    (59): ReLU(inplace=True)\n",
              "    (60): Conv3d(128, 128, kernel_size=(3, 3, 3), stride=(1, 1, 1), padding=(1, 1, 1))\n",
              "    (61): BatchNorm3d(128, eps=1e-05, momentum=0.1, affine=True, track_running_stats=True)\n",
              "    (62): SE_block(\n",
              "      (globalpooling): AdaptiveAvgPool3d(output_size=1)\n",
              "      (linear1): Linear(in_features=128, out_features=8, bias=True)\n",
              "      (relu1): ReLU()\n",
              "      (lienar2): Linear(in_features=8, out_features=128, bias=True)\n",
              "      (sigmoid1): Sigmoid()\n",
              "    )\n",
              "    (63): ReLU(inplace=True)\n",
              "    (64): Conv3d(128, 128, kernel_size=(3, 3, 3), stride=(1, 1, 1), padding=(1, 1, 1))\n",
              "    (65): BatchNorm3d(128, eps=1e-05, momentum=0.1, affine=True, track_running_stats=True)\n",
              "    (66): SE_block(\n",
              "      (globalpooling): AdaptiveAvgPool3d(output_size=1)\n",
              "      (linear1): Linear(in_features=128, out_features=8, bias=True)\n",
              "      (relu1): ReLU()\n",
              "      (lienar2): Linear(in_features=8, out_features=128, bias=True)\n",
              "      (sigmoid1): Sigmoid()\n",
              "    )\n",
              "    (67): ReLU(inplace=True)\n",
              "    (68): MaxPool3d(kernel_size=2, stride=2, padding=0, dilation=1, ceil_mode=False)\n",
              "  )\n",
              "  (classifier): Sequential(\n",
              "    (0): Dropout(p=0.5, inplace=False)\n",
              "    (1): Linear(in_features=27648, out_features=2048, bias=True)\n",
              "    (2): ReLU(inplace=True)\n",
              "    (3): Dropout(p=0.5, inplace=False)\n",
              "    (4): Linear(in_features=2048, out_features=512, bias=True)\n",
              "    (5): Sigmoid()\n",
              "    (6): Linear(in_features=512, out_features=2, bias=True)\n",
              "    (7): Softmax(dim=1)\n",
              "  )\n",
              ")"
            ]
          },
          "execution_count": 7,
          "metadata": {},
          "output_type": "execute_result"
        }
      ],
      "source": [
        "model = vgg19_bn()\n",
        "model"
      ]
    },
    {
      "cell_type": "code",
      "execution_count": 8,
      "metadata": {
        "id": "2OhR-BtSui4-"
      },
      "outputs": [],
      "source": [
        "def downsize_transform(data):\n",
        "    target_size = (192, 192, 192)\n",
        "    data = torch.from_numpy(data).unsqueeze(0).unsqueeze(0)\n",
        "    downsampled = torch.nn.functional.interpolate(data, size=target_size, mode='trilinear')\n",
        "\n",
        "    return downsampled.squeeze(0)"
      ]
    },
    {
      "cell_type": "code",
      "execution_count": 9,
      "metadata": {
        "id": "knjbyVSxui4_"
      },
      "outputs": [],
      "source": [
        "class CustomDataset(Dataset):\n",
        "    def __init__(self, root_dir, transforms = None):\n",
        "        self.root_dir = root_dir\n",
        "        self.transforms = transforms\n",
        "        self.cn_dir = os.path.join(self.root_dir, \"MNI152_affine_WB_iso1mm/CN\")\n",
        "        self.scz_dir = os.path.join(self.root_dir, \"MNI152_affine_WB_iso1mm/schiz\")\n",
        "        self.samples, self.labels = self._load_samples()\n",
        "\n",
        "    def _load_samples(self):\n",
        "        samples = []\n",
        "\n",
        "        samples = [file for file in os.listdir(self.cn_dir) if file.endswith(\".nii.gz\")]\n",
        "        labels = [0] * len(samples)\n",
        "        samples += [file for file in os.listdir(self.scz_dir) if file.endswith(\".nii.gz\")]\n",
        "        labels += [1] * (len(samples) - len(labels))\n",
        "\n",
        "        return samples, labels\n",
        "\n",
        "    def __len__(self):\n",
        "        return len(self.samples)\n",
        "\n",
        "    def __getitem__(self, idx):\n",
        "        label = self.labels[idx]\n",
        "        if label == 0:\n",
        "            file_path = os.path.join(self.cn_dir, self.samples[idx])\n",
        "        else:\n",
        "            file_path = os.path.join(self.scz_dir, self.samples[idx])\n",
        "        one_hot_label = torch.zeros(2)\n",
        "        one_hot_label[label] = 1\n",
        "        label = one_hot_label\n",
        "\n",
        "        # Load the NIfTI image\n",
        "        img = nib.load(file_path)\n",
        "\n",
        "        # Get the image data array\n",
        "        img_data = np.float32(img.get_fdata())[0:192, :, 0:192]\n",
        "        if self.transforms:\n",
        "            img_tensor = self.transforms(img_data)\n",
        "        else:\n",
        "            img_tensor = torch.from_numpy(img_data).unsqueeze(0)\n",
        "        return img_tensor, label"
      ]
    },
    {
      "cell_type": "code",
      "execution_count": 10,
      "metadata": {
        "colab": {
          "base_uri": "https://localhost:8080/"
        },
        "id": "ykGnasWpui4_",
        "outputId": "6392c2a0-0f83-458d-b304-a661d6eb0e13"
      },
      "outputs": [
        {
          "data": {
            "text/plain": [
              "['/content/drive/MyDrive/Colab Notebooks/SCZ classification/fold1',\n",
              " '/content/drive/MyDrive/Colab Notebooks/SCZ classification/fold2',\n",
              " '/content/drive/MyDrive/Colab Notebooks/SCZ classification/fold3',\n",
              " '/content/drive/MyDrive/Colab Notebooks/SCZ classification/fold4',\n",
              " '/content/drive/MyDrive/Colab Notebooks/SCZ classification/fold5',\n",
              " '/content/drive/MyDrive/Colab Notebooks/SCZ classification/fold6',\n",
              " '/content/drive/MyDrive/Colab Notebooks/SCZ classification/fold7',\n",
              " '/content/drive/MyDrive/Colab Notebooks/SCZ classification/fold8',\n",
              " '/content/drive/MyDrive/Colab Notebooks/SCZ classification/fold9',\n",
              " '/content/drive/MyDrive/Colab Notebooks/SCZ classification/fold10']"
            ]
          },
          "execution_count": 10,
          "metadata": {},
          "output_type": "execute_result"
        }
      ],
      "source": [
        "root_dir = \"/content/drive/MyDrive/Colab Notebooks/SCZ classification\"\n",
        "folds_dir = [dir for dir in os.listdir(root_dir) if dir.startswith(\"fold\")]\n",
        "folds_dir = [os.path.join(root_dir, dir) for dir in folds_dir]\n",
        "folds_dir = natsorted(folds_dir)\n",
        "folds_dir"
      ]
    },
    {
      "cell_type": "code",
      "execution_count": 11,
      "metadata": {
        "colab": {
          "base_uri": "https://localhost:8080/"
        },
        "id": "zEV4s4-eui5A",
        "outputId": "112980d3-ce53-47bb-9890-e6548687377a"
      },
      "outputs": [
        {
          "name": "stdout",
          "output_type": "stream",
          "text": [
            "fold 1 :  196\n",
            "fold 2 :  188\n",
            "fold 3 :  187\n",
            "fold 4 :  185\n",
            "fold 5 :  187\n",
            "fold 6 :  185\n",
            "fold 7 :  187\n",
            "fold 8 :  182\n",
            "fold 9 :  188\n",
            "fold 10 :  187\n"
          ]
        }
      ],
      "source": [
        "dataloaders = []\n",
        "for i in range(len(folds_dir)):\n",
        "    fold_dir = folds_dir[i]\n",
        "    dataset = CustomDataset(fold_dir, downsize_transform) #, downsize_transform)\n",
        "    dataloader = DataLoader(dataset, batch_size=3, shuffle=True)\n",
        "    dataloaders.append(dataloader)\n",
        "    print(\"fold\", i+1, \": \", len(dataset))"
      ]
    },
    {
      "cell_type": "code",
      "execution_count": 12,
      "metadata": {
        "colab": {
          "base_uri": "https://localhost:8080/",
          "height": 623
        },
        "id": "wM5Rv8Mdui5A",
        "outputId": "d57ba9dd-6ad3-4024-fa77-852bc43c361f"
      },
      "outputs": [
        {
          "name": "stdout",
          "output_type": "stream",
          "text": [
            "torch.Size([3, 1, 192, 192, 192])\n",
            "<built-in method type of Tensor object at 0x79392cf7a980>\n",
            "tensor([[1., 0.],\n",
            "        [0., 1.],\n",
            "        [1., 0.]])\n",
            "torch.Size([3, 2])\n"
          ]
        },
        {
          "data": {
            "image/png": "[encoded data removed]",
            "text/plain": [
              "<Figure size 640x480 with 1 Axes>"
            ]
          },
          "metadata": {},
          "output_type": "display_data"
        }
      ],
      "source": [
        "sample = next(iter(dataloaders[0]))\n",
        "plt.imshow(sample[0][0][0][0:128, int(128/2), 0:128], cmap = 'bone')\n",
        "print(sample[0].shape)\n",
        "print(sample[0].type)\n",
        "print(sample[1])\n",
        "print(sample[1].shape)"
      ]
    },
    {
      "cell_type": "code",
      "execution_count": 13,
      "metadata": {
        "id": "P_GrC0Aiui5B"
      },
      "outputs": [],
      "source": [
        "def train_net(net, epochs, train_dataloader, valid_loader, optimizer, loss_function, device, check_pt_dir):\n",
        "    os.makedirs(check_pt_dir, exist_ok=True)\n",
        "    net.to(device)\n",
        "    ret_train_loss = []\n",
        "    ret_valid_loss = []\n",
        "    min_vloss = math.inf\n",
        "\n",
        "    for epoch in range(epochs):\n",
        "        net.train()\n",
        "\n",
        "        train_loss = []\n",
        "        for i, (img, label) in enumerate(train_dataloader):\n",
        "            img= img.to(device)\n",
        "            label = label.to(device)\n",
        "            optimizer.zero_grad()\n",
        "            y_pred = net(img)\n",
        "            loss = loss_function(y_pred, label)\n",
        "            loss.backward()\n",
        "            optimizer.step()\n",
        "\n",
        "            train_loss.append(loss.item())\n",
        "            print(f'{i + 1}/{len(train_dataloader)}| current training loss: {train_loss[-1]}', end='\\r')\n",
        "\n",
        "            # Deleting variables and emptying the cache might not always lead to significant memory savings\n",
        "            # because PyTorch uses a caching memory allocator to improve performance. Consider using it\n",
        "            # judiciously based on the actual memory footprint observed.\n",
        "            #del img, label, y_pred, loss\n",
        "            # torch.cuda.empty_cache()\n",
        "\n",
        "        train_epoch_loss = np.mean(train_loss)\n",
        "        ret_train_loss.append(train_epoch_loss)\n",
        "        print(f'epoch {epoch}| training loss: {train_epoch_loss}', end='\\r')\n",
        "\n",
        "        # Validation phase\n",
        "        net.eval()\n",
        "        valid_loss = []\n",
        "        with torch.no_grad():\n",
        "            for i, (img, label) in enumerate(valid_loader):\n",
        "                img = img.to(device)\n",
        "                label = label.to(device)\n",
        "                y_pred = net(img)\n",
        "                loss = loss_function(y_pred, label)\n",
        "                valid_loss.append(loss.item())\n",
        "                print(f'{i + 1}/{len(valid_loader)}| current validation loss: {valid_loss[-1]}', end='\\r')\n",
        "\n",
        "                # del img, label, y_pred, loss\n",
        "                # torch.cuda.empty_cache()\n",
        "\n",
        "        epoch_vloss = np.mean(valid_loss)\n",
        "        if epoch_vloss < min_vloss:\n",
        "            model_filename = f'Epoch_{epoch}_VLoss_{epoch_vloss:.4f}.pth'\n",
        "            model_path = os.path.join(check_pt_dir, model_filename)\n",
        "            torch.save(model.state_dict(), model_path)\n",
        "\n",
        "        print(f\"epoch {epoch} | training loss: {train_epoch_loss:.4f} | validation loss: {epoch_vloss:.4f}\")\n",
        "        ret_valid_loss.append(epoch_vloss)\n",
        "\n",
        "    return ret_train_loss, ret_valid_loss"
      ]
    },
    {
      "cell_type": "code",
      "execution_count": 14,
      "metadata": {
        "id": "lEzdyUMEui5B"
      },
      "outputs": [],
      "source": [
        "optimizer = optim.Adam(model.parameters(), lr=0.0001)\n",
        "loss_function = nn.CrossEntropyLoss()\n",
        "# train_loss , valid_loss = train_net(model, 10, dataloaders[0], dataloaders[1], optimizer, loss_function, device)"
      ]
    },
    {
      "cell_type": "code",
      "execution_count": 15,
      "metadata": {
        "colab": {
          "base_uri": "https://localhost:8080/"
        },
        "id": "cIv7UZGAvo9A",
        "outputId": "3c3b073e-6dad-457c-8ff4-1e6271ec09e8"
      },
      "outputs": [
        {
          "name": "stdout",
          "output_type": "stream",
          "text": [
            "/content\n"
          ]
        }
      ],
      "source": [
        "!pwd"
      ]
    },
    {
      "cell_type": "code",
      "execution_count": null,
      "metadata": {
        "colab": {
          "base_uri": "https://localhost:8080/"
        },
        "id": "OjknKYVCui5C",
        "outputId": "86e0004a-3ac2-4a04-9c1d-b6af450aa847"
      },
      "outputs": [
        {
          "name": "stdout",
          "output_type": "stream",
          "text": [
            "outer epoch:0\n",
            "epoch 0 | training loss: 0.7223 | validation loss: 0.761326\n",
            "epoch 0 | training loss: 0.7175 | validation loss: 0.74003\n",
            "epoch 0 | training loss: 0.6987 | validation loss: 0.68607\n",
            "epoch 0 | training loss: 0.7142 | validation loss: 0.6852\n",
            "epoch 0 | training loss: 0.6704 | validation loss: 0.66611\n",
            "epoch 0 | training loss: 0.7060 | validation loss: 0.67342\n",
            "epoch 0 | training loss: 0.6578 | validation loss: 0.6858\n",
            "epoch 0 | training loss: 0.6768 | validation loss: 0.666224\n",
            "outer epoch:1\n",
            "epoch 0 | training loss: 0.6919 | validation loss: 0.68409\n",
            "epoch 0 | training loss: 0.6924 | validation loss: 0.67934\n",
            "epoch 0 | training loss: 0.6825 | validation loss: 0.68511\n",
            "epoch 0 | training loss: 0.7010 | validation loss: 0.67829\n",
            "epoch 0 | training loss: 0.6772 | validation loss: 0.66464\n",
            "epoch 0 | training loss: 0.6874 | validation loss: 0.69115\n",
            "epoch 0 | training loss: 0.6726 | validation loss: 0.66319\n",
            "epoch 0 | training loss: 0.6729 | validation loss: 0.662977\n",
            "outer epoch:2\n",
            "epoch 0 | training loss: 0.6708 | validation loss: 0.6691\n",
            "23/63| current training loss: 0.58671337366104136860198975\r"
          ]
        },
        {
          "ename": "KeyboardInterrupt",
          "evalue": "",
          "output_type": "error",
          "traceback": [
            "\u001b[0;31m---------------------------------------------------------------------------\u001b[0m",
            "\u001b[0;31mKeyboardInterrupt\u001b[0m                         Traceback (most recent call last)",
            "\u001b[0;32m<ipython-input-15-4f8d7c53264e>\u001b[0m in \u001b[0;36m<cell line: 8>\u001b[0;34m()\u001b[0m\n\u001b[1;32m     14\u001b[0m         \u001b[0;32mfor\u001b[0m \u001b[0mindex\u001b[0m \u001b[0;32min\u001b[0m \u001b[0mtrain_set\u001b[0m\u001b[0;34m:\u001b[0m\u001b[0;34m\u001b[0m\u001b[0;34m\u001b[0m\u001b[0m\n\u001b[1;32m     15\u001b[0m             \u001b[0mprint\u001b[0m\u001b[0;34m(\u001b[0m\u001b[0;34mf\"    fold {index}\"\u001b[0m\u001b[0;34m,\u001b[0m \u001b[0mend\u001b[0m\u001b[0;34m=\u001b[0m \u001b[0;34m\" \"\u001b[0m\u001b[0;34m)\u001b[0m\u001b[0;34m\u001b[0m\u001b[0;34m\u001b[0m\u001b[0m\n\u001b[0;32m---> 16\u001b[0;31m             \u001b[0mtrain_loss\u001b[0m\u001b[0;34m,\u001b[0m \u001b[0mvalid_loss\u001b[0m \u001b[0;34m=\u001b[0m \u001b[0mtrain_net\u001b[0m\u001b[0;34m(\u001b[0m\u001b[0mmodel\u001b[0m\u001b[0;34m,\u001b[0m \u001b[0;36m1\u001b[0m\u001b[0;34m,\u001b[0m \u001b[0mdataloaders\u001b[0m\u001b[0;34m[\u001b[0m\u001b[0mindex\u001b[0m\u001b[0;34m]\u001b[0m\u001b[0;34m,\u001b[0m \u001b[0mvalid_set\u001b[0m\u001b[0;34m,\u001b[0m \u001b[0moptimizer\u001b[0m\u001b[0;34m,\u001b[0m \u001b[0mloss_function\u001b[0m\u001b[0;34m,\u001b[0m \u001b[0mdevice\u001b[0m\u001b[0;34m,\u001b[0m \u001b[0mcheck_dir\u001b[0m\u001b[0;34m)\u001b[0m\u001b[0;34m\u001b[0m\u001b[0;34m\u001b[0m\u001b[0m\n\u001b[0m\u001b[1;32m     17\u001b[0m             \u001b[0moverall_train_loss\u001b[0m\u001b[0;34m.\u001b[0m\u001b[0mappend\u001b[0m\u001b[0;34m(\u001b[0m\u001b[0mtrain_loss\u001b[0m\u001b[0;34m)\u001b[0m\u001b[0;34m\u001b[0m\u001b[0;34m\u001b[0m\u001b[0m\n\u001b[1;32m     18\u001b[0m             \u001b[0moverall_valid_loss\u001b[0m\u001b[0;34m.\u001b[0m\u001b[0mappend\u001b[0m\u001b[0;34m(\u001b[0m\u001b[0mvalid_loss\u001b[0m\u001b[0;34m)\u001b[0m\u001b[0;34m\u001b[0m\u001b[0;34m\u001b[0m\u001b[0m\n",
            "\u001b[0;32m<ipython-input-13-80a246049efe>\u001b[0m in \u001b[0;36mtrain_net\u001b[0;34m(net, epochs, train_dataloader, valid_loader, optimizer, loss_function, device, check_pt_dir)\u001b[0m\n\u001b[1;32m     19\u001b[0m             \u001b[0moptimizer\u001b[0m\u001b[0;34m.\u001b[0m\u001b[0mstep\u001b[0m\u001b[0;34m(\u001b[0m\u001b[0;34m)\u001b[0m\u001b[0;34m\u001b[0m\u001b[0;34m\u001b[0m\u001b[0m\n\u001b[1;32m     20\u001b[0m \u001b[0;34m\u001b[0m\u001b[0m\n\u001b[0;32m---> 21\u001b[0;31m             \u001b[0mtrain_loss\u001b[0m\u001b[0;34m.\u001b[0m\u001b[0mappend\u001b[0m\u001b[0;34m(\u001b[0m\u001b[0mloss\u001b[0m\u001b[0;34m.\u001b[0m\u001b[0mitem\u001b[0m\u001b[0;34m(\u001b[0m\u001b[0;34m)\u001b[0m\u001b[0;34m)\u001b[0m\u001b[0;34m\u001b[0m\u001b[0;34m\u001b[0m\u001b[0m\n\u001b[0m\u001b[1;32m     22\u001b[0m             \u001b[0mprint\u001b[0m\u001b[0;34m(\u001b[0m\u001b[0;34mf'{i + 1}/{len(train_dataloader)}| current training loss: {train_loss[-1]}'\u001b[0m\u001b[0;34m,\u001b[0m \u001b[0mend\u001b[0m\u001b[0;34m=\u001b[0m\u001b[0;34m'\\r'\u001b[0m\u001b[0;34m)\u001b[0m\u001b[0;34m\u001b[0m\u001b[0;34m\u001b[0m\u001b[0m\n\u001b[1;32m     23\u001b[0m \u001b[0;34m\u001b[0m\u001b[0m\n",
            "\u001b[0;31mKeyboardInterrupt\u001b[0m: "
          ]
        }
      ],
      "source": [
        "check_dir = \"/content/checkpoints/\"\n",
        "\n",
        "temp_dir = \"/content/checkpoints/temp.pth\"\n",
        "overall_train_loss = []\n",
        "overall_valid_loss = []\n",
        "os.makedirs(check_dir, exist_ok=True)\n",
        "torch.save(model.state_dict(), temp_dir)\n",
        "for i in range(9):\n",
        "    valid_set = dataloaders[i]\n",
        "    train_set = [index for index in range(9)if index != i]\n",
        "    model.load_state_dict(torch.load(temp_dir))\n",
        "    for j in range(5):\n",
        "        for index in train_set:\n",
        "            print(f\"outer epoch: {j}    fold {index}\")\n",
        "            train_loss, valid_loss = train_net(model, 1, dataloaders[index], valid_set, optimizer, loss_function, device, check_dir)\n",
        "            overall_train_loss.append(train_loss)\n",
        "            overall_valid_loss.append(valid_loss)"
      ]
    },
    {
      "cell_type": "code",
      "execution_count": null,
      "metadata": {
        "id": "QhT1nkfeui5C"
      },
      "outputs": [],
      "source": [
        "def test_net(net, test_dataloader):\n",
        "    net.eval()\n",
        "    predictions = []\n",
        "    labels = []\n",
        "    with torch.no_grad():\n",
        "        for i, (img, label) in enumerate(test_dataloader):\n",
        "            img = img.to(device)\n",
        "            y_pred = net(img)\n",
        "            labels.append(label.numpy())\n",
        "            predictions.append(y_pred.cpu().numpy())\n",
        "    predictions = np.concatenate(predictions)\n",
        "    labels = np.concatenate(labels)\n",
        "    return predictions, labels\n"
      ]
    },
    {
      "cell_type": "code",
      "execution_count": null,
      "metadata": {
        "id": "hXyNpFUZui5C"
      },
      "outputs": [],
      "source": [
        "pred, labels = test_net(model, dataloaders[2])"
      ]
    },
    {
      "cell_type": "code",
      "execution_count": null,
      "metadata": {
        "id": "INLvMksVui5C"
      },
      "outputs": [],
      "source": [
        "pred_labels = np.argmax(pred, axis=1)\n",
        "true_labels = np.argmax(labels, axis=1)\n",
        "cm = confusion_matrix(true_labels, pred_labels)\n",
        "print(cm)"
      ]
    },
    {
      "cell_type": "code",
      "execution_count": null,
      "metadata": {
        "id": "K7SItC8eui5C"
      },
      "outputs": [],
      "source": [
        "\n",
        "# Set up figure\n",
        "plt.figure(figsize=(8, 6))\n",
        "\n",
        "# Use Seaborn to create a heatmap\n",
        "sns.heatmap(cm, annot=True, fmt=\"d\", cmap=\"Blues\", xticklabels=['Negative', 'Positive'], yticklabels=['Negative', 'Positive'])\n",
        "\n",
        "plt.title('Confusion Matrix')\n",
        "plt.xlabel('Predicted Label')\n",
        "plt.ylabel('True Label')\n",
        "plt.show()"
      ]
    },
    {
      "cell_type": "code",
      "execution_count": null,
      "metadata": {
        "id": "39_Tskjmui5D"
      },
      "outputs": [],
      "source": [
        "fpr, tpr, thres = roc_curve(labels, pred)\n",
        "roc_auc = roc_auc_score(labels, pred)  # Calculate the ROC AUC score\n",
        "\n",
        "plt.figure(figsize=(8, 6))\n",
        "plt.plot(fpr, tpr, color='darkorange', lw=2, label=f'ROC curve (area = {roc_auc:.2f})')  # Include the AUC score in the label\n",
        "plt.plot([0, 1], [0, 1], color='navy', lw=2, linestyle='--')\n",
        "plt.xlim([0.0, 1.0])\n",
        "plt.ylim([0.0, 1.05])\n",
        "plt.xlabel('False Positive Rate')\n",
        "plt.ylabel('True Positive Rate')\n",
        "plt.title('Receiver Operating Characteristic (ROC) Curve')\n",
        "plt.legend(loc=\"lower right\")\n",
        "plt.show()"
      ]
    }
  ],
  "metadata": {
    "accelerator": "GPU",
    "colab": {
      "gpuType": "V100",
      "machine_shape": "hm",
      "provenance": []
    },
    "kernelspec": {
      "display_name": "Python 3",
      "language": "python",
      "name": "python3"
    },
    "language_info": {
      "codemirror_mode": {
        "name": "ipython",
        "version": 3
      },
      "file_extension": ".py",
      "mimetype": "text/x-python",
      "name": "python",
      "nbconvert_exporter": "python",
      "pygments_lexer": "ipython3",
      "version": "3.1.undefined"
    }
  },
  "nbformat": 4,
  "nbformat_minor": 0
}
