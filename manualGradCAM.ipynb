{
 "cells": [
  {
   "cell_type": "code",
   "execution_count": 35,
   "metadata": {},
   "outputs": [],
   "source": [
    "import torch\n",
    "import math\n",
    "import numpy as np\n",
    "import os\n",
    "from natsort import natsorted\n",
    "import matplotlib.pyplot as plt\n",
    "from torch import optim\n",
    "import torch.nn as nn\n",
    "import torch.nn.parallel\n",
    "import torch.backends.cudnn as cudnn\n",
    "import torch.optim\n",
    "from torch.nn.utils import clip_grad_value_\n",
    "from torchvision import transforms\n",
    "from torch.utils.data import Dataset, DataLoader\n",
    "from torch.utils.data import Dataset, DataLoader\n",
    "from collections import OrderedDict\n",
    "from scipy.ndimage import zoom\n",
    "from glob import glob\n",
    "import nibabel as nib\n",
    "from tqdm import tqdm\n",
    "import cv2\n",
    "import torch.nn.functional as F\n"
   ]
  },
  {
   "cell_type": "markdown",
   "metadata": {},
   "source": [
    "# outline for gradcam\n",
    "- set hook that gets the gradients for the last layer of the feature extractor\n",
    "- get outputs of the last layer of the feature extractor which are the activations\n",
    "- multiply the activations by the gradients\n",
    "- do the necessary steps to make the maps fit the original image\n"
   ]
  },
  {
   "cell_type": "code",
   "execution_count": 16,
   "metadata": {},
   "outputs": [],
   "source": [
    "class VGG(nn.Module):\n",
    "    def __init__(self, feature_extractor):\n",
    "        super(VGG, self).__init__()\n",
    "        self.feature_extractor = feature_extractor\n",
    "\n",
    "        self.T1_feature_dimension = 64* 64 *3 #1 * 128 * 6 * 6 * 6 # raw T1 data 200*200*200\n",
    "        \n",
    "        feature_dimension = self.T1_feature_dimension\n",
    "\n",
    "        self.classifier = nn.Sequential(\n",
    "            nn.Dropout(), # commented on 20201230\n",
    "            nn.Linear(feature_dimension, 1024), #nn.Linear(feature_dimension, 2048),\n",
    "            nn.ReLU(True),\n",
    "\n",
    "            nn.Dropout(),\n",
    "            nn.Linear(1024, 128), #nn.Linear(2048, 512),\n",
    "            nn.Sigmoid(),\n",
    "            nn.Linear(128, 2), #nn.Linear(512, 2),\n",
    "        )\n",
    "\n",
    "         # Initialize weights\n",
    "        for m in self.modules():\n",
    "            if isinstance(m, nn.Conv3d):\n",
    "                n = m.kernel_size[0] * m.kernel_size[1] * m.kernel_size[2] * m.out_channels\n",
    "                m.weight.data.normal_(0, math.sqrt(2. / n))\n",
    "                m.bias.data.zero_()\n",
    "\n",
    "    def activations_hook(self, grad):\n",
    "        self.gradients = grad\n",
    "    \n",
    "    def get_activation_gradient(self):\n",
    "        return self.gradients\n",
    "    \n",
    "    def get_activations(self, x1):\n",
    "        x1 = self.feature_extractor(x1)\n",
    "        return x1\n",
    "\n",
    "    def forward(self, x1):\n",
    "        x1 = self.feature_extractor(x1)\n",
    "        h = x1.register_hook(self.activations_hook)\n",
    "        x = x1.view(x1.size(0), -1)\n",
    "\n",
    "        x = self.classifier(x)\n",
    "        return x\n",
    "\n",
    "# 5-27-2021\n",
    "class SE_block(nn.Module):\n",
    "    se_ratio = 16\n",
    "    def __init__(self,ch,ratio=se_ratio):\n",
    "        super(SE_block, self).__init__()\n",
    "\n",
    "        # Both should use the same complex number for initiaization which is then split into real and imaginary parts\n",
    "        # Weight initialiation using the real part \n",
    "        self.globalpooling = nn.AdaptiveAvgPool3d(1)\n",
    "        # Weight initialization using the imag part\n",
    "        self.linear1 = nn.Linear(ch,ch//ratio)\n",
    "        self.relu1 = nn.ReLU()\n",
    "        self.lienar2 = nn.Linear(ch//ratio,ch)\n",
    "        self.sigmoid1 = nn.Sigmoid()\n",
    "        self.ch = ch\n",
    "\n",
    "    def forward(self, x):\n",
    "        x_init=x\n",
    "        x1=self.globalpooling(x).squeeze()\n",
    "        x1=self.linear1(x1)\n",
    "        x1=self.relu1(x1)\n",
    "        x1=self.lienar2(x1)\n",
    "        x1=self.sigmoid1(x1).reshape(x.shape[0],self.ch,1,1,1)\n",
    "\n",
    "        return torch.mul(x_init,x1)\n",
    "\n",
    "\n",
    "def make_layers(cfg, batch_norm=True, se_block=True):\n",
    "    layers = []\n",
    "    DropoutRate = 0.10\n",
    "\n",
    "    in_channels = 1\n",
    "\n",
    "    for v in cfg:\n",
    "        if v == 'M':\n",
    "            layers += [nn.MaxPool3d(kernel_size=2, stride=2)] # MaxPool without Dropout # commented on 20201230\n",
    "            #layers += [nn.Dropout(p=DropoutRate), nn.MaxPool3d(kernel_size=2, stride=2)] # MaxPool with Dropout rate of 0.25 # commented on 20201230\n",
    "        else:\n",
    "            if batch_norm:\n",
    "                if se_block:\n",
    "                    conv3d = nn.Conv3d(in_channels, v, kernel_size=3, padding=1)\n",
    "                    se3d = SE_block(ch=v)\n",
    "                    layers += [conv3d, nn.BatchNorm3d(v), se3d, nn.ReLU(inplace=True)]\n",
    "                else:\n",
    "                    conv3d = nn.Conv3d(in_channels, v, kernel_size=3, padding=1)\n",
    "                    layers += [conv3d, nn.BatchNorm3d(v), nn.ReLU(inplace=True)]\n",
    "            else:\n",
    "                layers += [conv3d, nn.ReLU(inplace=True)]\n",
    "            in_channels = v\n",
    "    feature_extractor_T1 = nn.Sequential(*layers)\n",
    "\n",
    "    return feature_extractor_T1 \n",
    "\n",
    "cfg = {\n",
    "    'A': [16, 'M', 32, 'M', 64, 64, 'M', 128, 128, 'M', 128, 128], #'A': [32, 'M', 64, 'M', 64, 64, 'M', 128, 128, 'M', 256, 256, 'M'], \n",
    "    'B': [64, 64, 'M', 128, 128, 'M', 256, 256, 'M', 512, 512, 'M', 512, 512, 'M'],\n",
    "    'D': [64, 64, 'M', 128, 128, 'M', 256, 256, 256, 'M', 512, 512, 512, 'M', 512, 512, 512, 'M'],\n",
    "    'E': [16, 16, 'M', 32, 32, 'M', 64, 64, 64, 64, 'M', 128, 128, 128, 128, 'M', \n",
    "          128, 128, 128, 128, 'M'],\n",
    "    'F': [32, 'M', 128, 'M', 512, 'M'],\n",
    "}\n",
    "\n",
    "def vgg19_bn():\n",
    "    \"\"\"VGG 19-layer model (configuration 'E') with batch normalization\"\"\"\n",
    "    return VGG(make_layers(cfg['E']))\n",
    "\n",
    "def vgg16_bn():\n",
    "    \"\"\"VGG 16-layer model (configuration 'D') with batch normalization\"\"\"\n",
    "    return VGG(make_layers(cfg['D']))\n",
    "\n",
    "def vgg11_bn():\n",
    "    \"\"\"VGG 11-layer model (configuration 'A') with batch normalization\"\"\"\n",
    "    return VGG(make_layers(cfg['A']))\n",
    "\n",
    "def vgg6_bn():\n",
    "    \"\"\"VGG 8-layer model (configuration 'F') with batch normalization\"\"\"\n",
    "    return VGG(make_layers(cfg['F']))"
   ]
  },
  {
   "cell_type": "code",
   "execution_count": 17,
   "metadata": {},
   "outputs": [],
   "source": [
    "model = vgg11_bn()"
   ]
  },
  {
   "cell_type": "code",
   "execution_count": 18,
   "metadata": {},
   "outputs": [],
   "source": [
    "def downsize_transform(data): \n",
    "    target_size = (64, 96, 64)\n",
    "    data = torch.from_numpy(data).unsqueeze(0).unsqueeze(0)\n",
    "    downsampled = torch.nn.functional.interpolate(data, size=target_size, mode='trilinear')\n",
    "\n",
    "    return downsampled.squeeze(0)\n",
    "\n",
    "class CustomDataset(Dataset):\n",
    "    def __init__(self, root_dir, transforms = None):\n",
    "        self.root_dir = root_dir\n",
    "        self.transforms = transforms\n",
    "        self.cn_dir = os.path.join(self.root_dir, \"MNI152_affine_WB_iso1mm/CN\")\n",
    "        self.scz_dir = os.path.join(self.root_dir, \"MNI152_affine_WB_iso1mm/schiz\")\n",
    "        self.samples, self.labels = self._load_samples()\n",
    "\n",
    "    def _load_samples(self):\n",
    "        samples = []\n",
    "        \n",
    "        samples = [file for file in os.listdir(self.cn_dir) if file.endswith(\".nii.gz\")]\n",
    "        labels = [0] * len(samples)\n",
    "        samples += [file for file in os.listdir(self.scz_dir) if file.endswith(\".nii.gz\")]\n",
    "        labels += [1] * (len(samples) - len(labels))\n",
    "\n",
    "        return samples, labels\n",
    "\n",
    "    def __len__(self):\n",
    "        return len(self.samples)\n",
    "\n",
    "    def __getitem__(self, idx):\n",
    "        label = self.labels[idx]\n",
    "        if label == 0:\n",
    "            file_path = os.path.join(self.cn_dir, self.samples[idx])\n",
    "        else:\n",
    "            file_path = os.path.join(self.scz_dir, self.samples[idx])\n",
    "        one_hot_label = torch.zeros(2)\n",
    "        one_hot_label[label] = 1\n",
    "        label = one_hot_label\n",
    "\n",
    "        # Load the NIfTI image\n",
    "        img = nib.load(file_path)\n",
    "\n",
    "        # Get the image data array\n",
    "        img_data = np.float32(img.get_fdata())[0:192, :, 0:192]\n",
    "        if self.transforms:\n",
    "            img_tensor = self.transforms(img_data)\n",
    "        else:\n",
    "            img_tensor = torch.from_numpy(img_data).unsqueeze(0)\n",
    "        return img_tensor, label"
   ]
  },
  {
   "cell_type": "code",
   "execution_count": 19,
   "metadata": {},
   "outputs": [
    {
     "data": {
      "text/plain": [
       "['/home/ljd2160/research/youzhi/test/sample_data/data/fold1',\n",
       " '/home/ljd2160/research/youzhi/test/sample_data/data/fold2',\n",
       " '/home/ljd2160/research/youzhi/test/sample_data/data/fold3',\n",
       " '/home/ljd2160/research/youzhi/test/sample_data/data/fold4',\n",
       " '/home/ljd2160/research/youzhi/test/sample_data/data/fold5',\n",
       " '/home/ljd2160/research/youzhi/test/sample_data/data/fold6',\n",
       " '/home/ljd2160/research/youzhi/test/sample_data/data/fold7',\n",
       " '/home/ljd2160/research/youzhi/test/sample_data/data/fold8',\n",
       " '/home/ljd2160/research/youzhi/test/sample_data/data/fold9',\n",
       " '/home/ljd2160/research/youzhi/test/sample_data/data/fold10']"
      ]
     },
     "execution_count": 19,
     "metadata": {},
     "output_type": "execute_result"
    }
   ],
   "source": [
    "root_dir = '/home/ljd2160/research/youzhi/test/sample_data/data' #\"/media/youzhi/SSD/bme_project/data\"\n",
    "folds_dir = [dir for dir in os.listdir(root_dir) if dir.startswith(\"fold\")]\n",
    "folds_dir = [os.path.join(root_dir, dir) for dir in folds_dir]\n",
    "folds_dir = natsorted(folds_dir)\n",
    "folds_dir"
   ]
  },
  {
   "cell_type": "code",
   "execution_count": 20,
   "metadata": {},
   "outputs": [
    {
     "name": "stdout",
     "output_type": "stream",
     "text": [
      "fold 1 :  196\n",
      "fold 2 :  188\n",
      "fold 3 :  187\n",
      "fold 4 :  185\n",
      "fold 5 :  187\n",
      "fold 6 :  185\n",
      "fold 7 :  187\n",
      "fold 8 :  182\n",
      "fold 9 :  188\n",
      "fold 10 :  187\n"
     ]
    }
   ],
   "source": [
    "dataloaders = []\n",
    "for i in range(len(folds_dir)):\n",
    "    fold_dir = folds_dir[i]\n",
    "    dataset = CustomDataset(fold_dir, downsize_transform) #, downsize_transform)\n",
    "    dataloader = DataLoader(dataset, batch_size=8, shuffle=True)\n",
    "    dataloaders.append(dataloader)\n",
    "    print(\"fold\", i+1, \": \", len(dataset))"
   ]
  },
  {
   "cell_type": "code",
   "execution_count": 21,
   "metadata": {},
   "outputs": [
    {
     "ename": "NameError",
     "evalue": "name 'plt' is not defined",
     "output_type": "error",
     "traceback": [
      "\u001b[0;31m---------------------------------------------------------------------------\u001b[0m",
      "\u001b[0;31mNameError\u001b[0m                                 Traceback (most recent call last)",
      "Cell \u001b[0;32mIn[21], line 2\u001b[0m\n\u001b[1;32m      1\u001b[0m sample \u001b[38;5;241m=\u001b[39m \u001b[38;5;28mnext\u001b[39m(\u001b[38;5;28miter\u001b[39m(dataloaders[\u001b[38;5;241m0\u001b[39m]))\n\u001b[0;32m----> 2\u001b[0m \u001b[43mplt\u001b[49m\u001b[38;5;241m.\u001b[39mimshow(sample[\u001b[38;5;241m0\u001b[39m][\u001b[38;5;241m0\u001b[39m][\u001b[38;5;241m0\u001b[39m][\u001b[38;5;241m0\u001b[39m:\u001b[38;5;241m64\u001b[39m, \u001b[38;5;28mint\u001b[39m(\u001b[38;5;241m96\u001b[39m\u001b[38;5;241m/\u001b[39m\u001b[38;5;241m2\u001b[39m), \u001b[38;5;241m0\u001b[39m:\u001b[38;5;241m64\u001b[39m], cmap \u001b[38;5;241m=\u001b[39m \u001b[38;5;124m'\u001b[39m\u001b[38;5;124mbone\u001b[39m\u001b[38;5;124m'\u001b[39m)\n\u001b[1;32m      3\u001b[0m \u001b[38;5;28mprint\u001b[39m(sample[\u001b[38;5;241m0\u001b[39m]\u001b[38;5;241m.\u001b[39mshape)\n\u001b[1;32m      4\u001b[0m \u001b[38;5;28mprint\u001b[39m(sample[\u001b[38;5;241m0\u001b[39m]\u001b[38;5;241m.\u001b[39mtype)\n",
      "\u001b[0;31mNameError\u001b[0m: name 'plt' is not defined"
     ]
    }
   ],
   "source": [
    "sample = next(iter(dataloaders[0]))\n",
    "plt.imshow(sample[0][0][0][0:64, int(96/2), 0:64], cmap = 'bone')\n",
    "print(sample[0].shape)\n",
    "print(sample[0].type)\n",
    "print(sample[1])\n",
    "print(sample[1].shape)"
   ]
  },
  {
   "cell_type": "code",
   "execution_count": 28,
   "metadata": {},
   "outputs": [],
   "source": [
    "def get_feature_map(model, input):\n",
    "    pred = model(input)\n",
    "\n",
    "    pred[:, 1].backward()\n",
    "\n",
    "    gradients = model.get_activation_gradient()\n",
    "\n",
    "    pooled_gradients = torch.abs(torch.mean(gradients, dim = [0, 2, 3, 4]))\n",
    "\n",
    "    activations = model.get_activations(input).detach()\n",
    "    print(\"shape of activation: \", activations.shape)\n",
    "    print(\"shape of gradients: \", gradients.shape)\n",
    "\n",
    "    for idx in range(128):\n",
    "        activations[:, idx, :, :, :] *= pooled_gradients[idx]\n",
    "    heatmap = torch.mean(activations, 1).squeeze()\n",
    "\n",
    "    heatmap = np.maximum(heatmap, 0)\n",
    "    print(\"shape of heatmap: \", heatmap.shape)\n",
    "\n",
    "    #print(torch.max(heatmap))\n",
    "    #heatmap = nn.ReLU(heatmap)\n",
    "\n",
    "    #all_pos = heatmap >= 0\n",
    "\n",
    "    #if False in all_pos:\n",
    "\n",
    "    #    print('------Negative numbers exist !')\n",
    "\n",
    "\n",
    "    heatmap /= torch.max(heatmap)\n",
    "\n",
    "    resampled_heatmap = zoom(heatmap, tuple(np.array([64, 96, 64]) / np.array(heatmap.shape))) #cubic spline\n",
    "    #resampled_heatmap = zoom(heatmap, tuple(np.array([200, 200, 200]) / np.array(heatmap.shape)),order=0) # NN\n",
    "    #resampled_heatmap = zoom(heatmap, tuple(np.array([200, 200, 200]) / np.array(heatmap.shape)),order=1) # bilinear\n",
    "    return resampled_heatmap\n"
   ]
  },
  {
   "cell_type": "code",
   "execution_count": 22,
   "metadata": {},
   "outputs": [
    {
     "name": "stdout",
     "output_type": "stream",
     "text": [
      "tensor([[ 0.3458, -0.2129]], grad_fn=<AddmmBackward0>)\n",
      "tensor([-0.2129], grad_fn=<SelectBackward0>)\n"
     ]
    }
   ],
   "source": [
    "input = sample[0][0].unsqueeze(0)\n",
    "pred = model(input)\n",
    "print(pred)\n",
    "print(pred[:,1])"
   ]
  },
  {
   "cell_type": "code",
   "execution_count": 29,
   "metadata": {},
   "outputs": [
    {
     "name": "stdout",
     "output_type": "stream",
     "text": [
      "shape of activation:  torch.Size([1, 128, 4, 6, 4])\n",
      "shape of gradients:  torch.Size([1, 128, 4, 6, 4])\n",
      "shape of heatmap:  torch.Size([4, 6, 4])\n"
     ]
    }
   ],
   "source": [
    "heatmap = get_feature_map(model, sample[0][0].unsqueeze(0))"
   ]
  },
  {
   "cell_type": "code",
   "execution_count": 58,
   "metadata": {},
   "outputs": [
    {
     "data": {
      "text/plain": [
       "<matplotlib.colorbar.Colorbar at 0x7fc26d220730>"
      ]
     },
     "execution_count": 58,
     "metadata": {},
     "output_type": "execute_result"
    },
    {
     "data": {
      "image/png": "[encoded data removed]",
      "text/plain": [
       "<Figure size 640x480 with 2 Axes>"
      ]
     },
     "metadata": {},
     "output_type": "display_data"
    }
   ],
   "source": [
    "\n",
    "# Assuming heatmap and sample[0] are NumPy arrays\n",
    "image = sample[0][0][0][0:64, int(96/2), 0:64].numpy()\n",
    "heatmap_image = heatmap[0:64, int(96/2), 0:64]\n",
    "\n",
    "# Normalize heatmap values to [0, 255] range\n",
    "heatmap_normalized = np.uint8(255 * (heatmap_image - np.min(heatmap_image)) / (np.max(heatmap_image) - np.min(heatmap_image)))\n",
    "\n",
    "# Apply colormap to heatmap\n",
    "# heatmap_color = cv2.applyColorMap(heatmap_normalized, cv2.COLORMAP_JET)\n",
    "# # Overlay heatmap on image\n",
    "# overlaid_image = cv2.addWeighted(image, 0.5, heatmap_color, 0.5, 0)\n",
    "\n",
    "# # Plot overlaid image\n",
    "plt.imshow(image, cmap='bone', alpha=1)\n",
    "plt.imshow(heatmap_image, cmap='hot', alpha=0.5)\n",
    "plt.colorbar()\n",
    "# plt.axis('off')\n",
    "# plt.show()"
   ]
  }
 ],
 "metadata": {
  "kernelspec": {
   "display_name": "Python 3 (ipykernel)",
   "language": "python",
   "name": "python3"
  },
  "language_info": {
   "codemirror_mode": {
    "name": "ipython",
    "version": 3
   },
   "file_extension": ".py",
   "mimetype": "text/x-python",
   "name": "python",
   "nbconvert_exporter": "python",
   "pygments_lexer": "ipython3",
   "version": "3.10.12"
  }
 },
 "nbformat": 4,
 "nbformat_minor": 2
}
