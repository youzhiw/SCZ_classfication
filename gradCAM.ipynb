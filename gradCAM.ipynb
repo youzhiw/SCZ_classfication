{
 "cells": [
  {
   "cell_type": "code",
   "execution_count": 26,
   "metadata": {},
   "outputs": [],
   "source": [
    "from pytorch_grad_cam import GradCAM, HiResCAM, ScoreCAM, GradCAMPlusPlus, AblationCAM, XGradCAM, EigenCAM, FullGrad\n",
    "from pytorch_grad_cam.utils.model_targets import ClassifierOutputTarget\n",
    "from pytorch_grad_cam.utils.image import show_cam_on_image\n",
    "\n",
    "import torch\n",
    "import torch.nn as nn\n",
    "import math\n",
    "from torch.utils.data import DataLoader, Dataset, random_split\n",
    "\n",
    "import numpy as np\n",
    "import matplotlib.pyplot as plt\n",
    "from natsort import natsorted\n",
    "import os\n",
    "import nibabel as nib"
   ]
  },
  {
   "cell_type": "code",
   "execution_count": 3,
   "metadata": {},
   "outputs": [],
   "source": [
    "class VGG(nn.Module):\n",
    "    def __init__(self, feature_extractor):\n",
    "        super(VGG, self).__init__()\n",
    "        self.feature_extractor = feature_extractor\n",
    "\n",
    "        self.T1_feature_dimension = 64* 64 *3 #1 * 128 * 6 * 6 * 6 # raw T1 data 200*200*200\n",
    "        \n",
    "        feature_dimension = self.T1_feature_dimension\n",
    "\n",
    "        self.classifier = nn.Sequential(\n",
    "            nn.Dropout(), # commented on 20201230\n",
    "            nn.Linear(feature_dimension, 1024), #nn.Linear(feature_dimension, 2048),\n",
    "            nn.ReLU(True),\n",
    "\n",
    "            nn.Dropout(),\n",
    "            nn.Linear(1024, 128), #nn.Linear(2048, 512),\n",
    "            nn.Sigmoid(),\n",
    "            nn.Linear(128, 2), #nn.Linear(512, 2),\n",
    "        )\n",
    "\n",
    "         # Initialize weights\n",
    "        for m in self.modules():\n",
    "            if isinstance(m, nn.Conv3d):\n",
    "                n = m.kernel_size[0] * m.kernel_size[1] * m.kernel_size[2] * m.out_channels\n",
    "                m.weight.data.normal_(0, math.sqrt(2. / n))\n",
    "                m.bias.data.zero_()\n",
    "\n",
    "    def forward(self, x1):\n",
    "        x1 = self.feature_extractor(x1)\n",
    "        x = x1.view(x1.size(0), -1)\n",
    "\n",
    "        x = self.classifier(x)\n",
    "        return x\n",
    "\n",
    "# 5-27-2021\n",
    "class SE_block(nn.Module):\n",
    "    se_ratio = 16\n",
    "    def __init__(self,ch,ratio=se_ratio):\n",
    "        super(SE_block, self).__init__()\n",
    "\n",
    "        # Both should use the same complex number for initiaization which is then split into real and imaginary parts\n",
    "        # Weight initialiation using the real part \n",
    "        self.globalpooling = nn.AdaptiveAvgPool3d(1)\n",
    "        # Weight initialization using the imag part\n",
    "        self.linear1 = nn.Linear(ch,ch//ratio)\n",
    "        self.relu1 = nn.ReLU()\n",
    "        self.lienar2 = nn.Linear(ch//ratio,ch)\n",
    "        self.sigmoid1 = nn.Sigmoid()\n",
    "        self.ch = ch\n",
    "\n",
    "    def forward(self, x):\n",
    "        x_init=x\n",
    "        x1=self.globalpooling(x).squeeze()\n",
    "        x1=self.linear1(x1)\n",
    "        x1=self.relu1(x1)\n",
    "        x1=self.lienar2(x1)\n",
    "        x1=self.sigmoid1(x1).reshape(x.shape[0],self.ch,1,1,1)\n",
    "\n",
    "        return torch.mul(x_init,x1)\n",
    "\n"
   ]
  },
  {
   "cell_type": "code",
   "execution_count": 5,
   "metadata": {},
   "outputs": [],
   "source": [
    "def vgg19_bn():\n",
    "    \"\"\"VGG 19-layer model (configuration 'E') with batch normalization\"\"\"\n",
    "    return VGG(make_layers(cfg['E']))\n",
    "\n",
    "def vgg16_bn():\n",
    "    \"\"\"VGG 16-layer model (configuration 'D') with batch normalization\"\"\"\n",
    "    return VGG(make_layers(cfg['D']))\n",
    "\n",
    "def vgg11_bn():\n",
    "    \"\"\"VGG 11-layer model (configuration 'A') with batch normalization\"\"\"\n",
    "    return VGG(make_layers(cfg['A']))\n",
    "\n",
    "def vgg6_bn():\n",
    "    \"\"\"VGG 8-layer model (configuration 'F') with batch normalization\"\"\"\n",
    "    return VGG(make_layers(cfg['F']))"
   ]
  },
  {
   "cell_type": "code",
   "execution_count": 7,
   "metadata": {},
   "outputs": [],
   "source": [
    "def make_layers(cfg, batch_norm=True, se_block=True):\n",
    "    layers = []\n",
    "    DropoutRate = 0.10\n",
    "\n",
    "    in_channels = 1\n",
    "\n",
    "    for v in cfg:\n",
    "        if v == 'M':\n",
    "            layers += [nn.MaxPool3d(kernel_size=2, stride=2)] # MaxPool without Dropout # commented on 20201230\n",
    "            #layers += [nn.Dropout(p=DropoutRate), nn.MaxPool3d(kernel_size=2, stride=2)] # MaxPool with Dropout rate of 0.25 # commented on 20201230\n",
    "        else:\n",
    "            if batch_norm:\n",
    "                if se_block:\n",
    "                    conv3d = nn.Conv3d(in_channels, v, kernel_size=3, padding=1)\n",
    "                    se3d = SE_block(ch=v)\n",
    "                    layers += [conv3d, nn.BatchNorm3d(v), se3d, nn.ReLU(inplace=True)]\n",
    "                else:\n",
    "                    conv3d = nn.Conv3d(in_channels, v, kernel_size=3, padding=1)\n",
    "                    layers += [conv3d, nn.BatchNorm3d(v), nn.ReLU(inplace=True)]\n",
    "            else:\n",
    "                layers += [conv3d, nn.ReLU(inplace=True)]\n",
    "            in_channels = v\n",
    "    feature_extractor_T1 = nn.Sequential(*layers)\n",
    "\n",
    "    return feature_extractor_T1 \n",
    "\n",
    "cfg = {\n",
    "    'A': [16, 'M', 32, 'M', 64, 64, 'M', 128, 128, 'M', 128, 128], #'A': [32, 'M', 64, 'M', 64, 64, 'M', 128, 128, 'M', 256, 256, 'M'], \n",
    "    'B': [64, 64, 'M', 128, 128, 'M', 256, 256, 'M', 512, 512, 'M', 512, 512, 'M'],\n",
    "    'D': [64, 64, 'M', 128, 128, 'M', 256, 256, 256, 'M', 512, 512, 512, 'M', 512, 512, 512, 'M'],\n",
    "    'E': [16, 16, 'M', 32, 32, 'M', 64, 64, 64, 64, 'M', 128, 128, 128, 128, 'M', \n",
    "          128, 128, 128, 128, 'M'],\n",
    "    'F': [32, 'M', 128, 'M', 512, 'M'],\n",
    "}"
   ]
  },
  {
   "cell_type": "code",
   "execution_count": 10,
   "metadata": {},
   "outputs": [],
   "source": [
    "model = vgg11_bn()"
   ]
  },
  {
   "cell_type": "code",
   "execution_count": 38,
   "metadata": {},
   "outputs": [
    {
     "data": {
      "text/plain": [
       "ReLU(inplace=True)"
      ]
     },
     "execution_count": 38,
     "metadata": {},
     "output_type": "execute_result"
    }
   ],
   "source": [
    "model.feature_extractor[-1]"
   ]
  },
  {
   "cell_type": "code",
   "execution_count": 17,
   "metadata": {},
   "outputs": [],
   "source": [
    "class CustomDataset(Dataset):\n",
    "    def __init__(self, root_dir, transforms = None):\n",
    "        self.root_dir = root_dir\n",
    "        self.transforms = transforms\n",
    "        self.cn_dir = os.path.join(self.root_dir, \"MNI152_affine_WB_iso1mm/CN\")\n",
    "        self.scz_dir = os.path.join(self.root_dir, \"MNI152_affine_WB_iso1mm/schiz\")\n",
    "        self.samples, self.labels = self._load_samples()\n",
    "\n",
    "    def _load_samples(self):\n",
    "        samples = []\n",
    "        \n",
    "        samples = [file for file in os.listdir(self.cn_dir) if file.endswith(\".nii.gz\")]\n",
    "        labels = [0] * len(samples)\n",
    "        samples += [file for file in os.listdir(self.scz_dir) if file.endswith(\".nii.gz\")]\n",
    "        labels += [1] * (len(samples) - len(labels))\n",
    "\n",
    "        return samples, labels\n",
    "\n",
    "    def __len__(self):\n",
    "        return len(self.samples)\n",
    "\n",
    "    def __getitem__(self, idx):\n",
    "        label = self.labels[idx]\n",
    "        if label == 0:\n",
    "            file_path = os.path.join(self.cn_dir, self.samples[idx])\n",
    "        else:\n",
    "            file_path = os.path.join(self.scz_dir, self.samples[idx])\n",
    "        one_hot_label = torch.zeros(2)\n",
    "        one_hot_label[label] = 1\n",
    "        label = one_hot_label\n",
    "\n",
    "        # Load the NIfTI image\n",
    "        img = nib.load(file_path)\n",
    "\n",
    "        # Get the image data array\n",
    "        img_data = np.float32(img.get_fdata())[0:192, :, 0:192]\n",
    "        if self.transforms:\n",
    "            img_tensor = self.transforms(img_data)\n",
    "        else:\n",
    "            img_tensor = torch.from_numpy(img_data).unsqueeze(0)\n",
    "        return img_tensor, label"
   ]
  },
  {
   "cell_type": "code",
   "execution_count": 22,
   "metadata": {},
   "outputs": [],
   "source": [
    "def downsize_transform(data): \n",
    "    target_size = (64, 96, 64)\n",
    "    data = torch.from_numpy(data).unsqueeze(0).unsqueeze(0)\n",
    "    downsampled = torch.nn.functional.interpolate(data, size=target_size, mode='trilinear')\n",
    "\n",
    "    return downsampled.squeeze(0)"
   ]
  },
  {
   "cell_type": "code",
   "execution_count": 21,
   "metadata": {},
   "outputs": [],
   "source": [
    "root_dir = \"/media/youzhi/SSD/bme_project/data\"\n",
    "folds_dir = [dir for dir in os.listdir(root_dir) if dir.startswith(\"fold\")]\n",
    "folds_dir = [os.path.join(root_dir, dir) for dir in folds_dir]\n",
    "folds_dir = natsorted(folds_dir)"
   ]
  },
  {
   "cell_type": "code",
   "execution_count": 23,
   "metadata": {},
   "outputs": [
    {
     "name": "stdout",
     "output_type": "stream",
     "text": [
      "fold 1 :  196\n",
      "fold 2 :  188\n",
      "fold 3 :  187\n",
      "fold 4 :  185\n",
      "fold 5 :  187\n",
      "fold 6 :  185\n",
      "fold 7 :  187\n",
      "fold 8 :  182\n",
      "fold 9 :  188\n",
      "fold 10 :  187\n"
     ]
    }
   ],
   "source": [
    "dataloaders = []\n",
    "for i in range(len(folds_dir)):\n",
    "    fold_dir = folds_dir[i]\n",
    "    dataset = CustomDataset(fold_dir, downsize_transform) #, downsize_transform)\n",
    "    dataloader = DataLoader(dataset, batch_size=8, shuffle=True)\n",
    "    dataloaders.append(dataloader)\n",
    "    print(\"fold\", i+1, \": \", len(dataset))"
   ]
  },
  {
   "cell_type": "code",
   "execution_count": 27,
   "metadata": {},
   "outputs": [
    {
     "name": "stdout",
     "output_type": "stream",
     "text": [
      "torch.Size([8, 1, 64, 96, 64])\n",
      "<built-in method type of Tensor object at 0x701734f09900>\n",
      "tensor([[1., 0.],\n",
      "        [0., 1.],\n",
      "        [0., 1.],\n",
      "        [1., 0.],\n",
      "        [1., 0.],\n",
      "        [1., 0.],\n",
      "        [0., 1.],\n",
      "        [1., 0.]])\n",
      "torch.Size([8, 2])\n"
     ]
    },
    {
     "data": {
      "image/png": "[encoded data removed]",
      "text/plain": [
       "<Figure size 640x480 with 1 Axes>"
      ]
     },
     "metadata": {},
     "output_type": "display_data"
    }
   ],
   "source": [
    "sample = next(iter(dataloaders[0]))\n",
    "plt.imshow(sample[0][0][0][0:64, int(96/2), 0:64], cmap = 'bone')\n",
    "print(sample[0].shape)\n",
    "print(sample[0].type)\n",
    "print(sample[1])\n",
    "print(sample[1].shape)"
   ]
  },
  {
   "cell_type": "code",
   "execution_count": 39,
   "metadata": {},
   "outputs": [],
   "source": [
    "model = vgg11_bn()\n",
    "target_layers = [model.feature_extractor[-1]]\n",
    "input_tensor = sample[0]# Create an input tensor image for your model..\n",
    "# Note: input_tensor can be a batch tensor with several images!\n",
    "\n",
    "# Construct the CAM object once, and then re-use it on many images:\n",
    "cam = GradCAM(model=model, target_layers=target_layers)\n",
    "\n",
    "# You can also use it within a with statement, to make sure it is freed,\n",
    "# In case you need to re-create it inside an outer loop:\n",
    "# with GradCAM(model=model, target_layers=target_layers, use_cuda=args.use_cuda) as cam:\n",
    "#   ...\n",
    "\n",
    "# We have to specify the target we want to generate\n",
    "# the Class Activation Maps for.\n",
    "# If targets is None, the highest scoring category\n",
    "# will be used for every image in the batch.\n",
    "# Here we use ClassifierOutputTarget, but you can define your own custom targets\n",
    "# That are, for example, combinations of categories, or specific outputs in a non standard model.\n",
    "\n",
    "targets = [ClassifierOutputTarget(1)]\n",
    "\n",
    "# You can also pass aug_smooth=True and eigen_smooth=True, to apply smoothing.\n",
    "grayscale_cam = cam(input_tensor=input_tensor, targets=targets)\n",
    "\n",
    "# In this example grayscale_cam has only one image in the batch:\n",
    "grayscale_cam = grayscale_cam[0, :]"
   ]
  },
  {
   "cell_type": "code",
   "execution_count": 41,
   "metadata": {},
   "outputs": [
    {
     "name": "stdout",
     "output_type": "stream",
     "text": [
      "(96, 64, 4)\n"
     ]
    },
    {
     "data": {
      "text/plain": [
       "<matplotlib.image.AxesImage at 0x70172fa0bc20>"
      ]
     },
     "execution_count": 41,
     "metadata": {},
     "output_type": "execute_result"
    },
    {
     "data": {
      "image/png": "[encoded data removed]",
      "text/plain": [
       "<Figure size 640x480 with 1 Axes>"
      ]
     },
     "metadata": {},
     "output_type": "display_data"
    }
   ],
   "source": [
    "print(grayscale_cam.shape)\n",
    "plt.imshow(grayscale_cam[0:96, 0:64, 2], cmap='bone')"
   ]
  }
 ],
 "metadata": {
  "kernelspec": {
   "display_name": "bmeProj",
   "language": "python",
   "name": "python3"
  },
  "language_info": {
   "codemirror_mode": {
    "name": "ipython",
    "version": 3
   },
   "file_extension": ".py",
   "mimetype": "text/x-python",
   "name": "python",
   "nbconvert_exporter": "python",
   "pygments_lexer": "ipython3",
   "version": "3.12.2"
  }
 },
 "nbformat": 4,
 "nbformat_minor": 2
}
