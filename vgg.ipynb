{
 "cells": [
  {
   "cell_type": "code",
   "execution_count": 15,
   "metadata": {},
   "outputs": [],
   "source": [
    "import math\n",
    "import torch\n",
    "import torch.nn as nn\n",
    "import torch.nn.init as init\n",
    "\n",
    "import os\n",
    "import numpy as np\n",
    "import matplotlib.pyplot as plt\n",
    "from sklearn.metrics import accuracy_score, roc_auc_score, f1_score, recall_score, roc_curve, auc\n",
    "\n",
    "import torch.optim as optim\n",
    "from torch.utils.data import DataLoader, Dataset, random_split\n",
    "from torchvision import transforms, datasets\n",
    "import nibabel as nib\n",
    "from torchvision.transforms import functional as F\n",
    "from natsort import natsorted\n",
    "from sklearn.metrics import roc_curve, roc_auc_score, confusion_matrix\n",
    "\n",
    "import seaborn as sns"
   ]
  },
  {
   "cell_type": "code",
   "execution_count": 16,
   "metadata": {},
   "outputs": [
    {
     "name": "stdout",
     "output_type": "stream",
     "text": [
      "cpu\n"
     ]
    }
   ],
   "source": [
    "device = torch.device(\"cuda\" if torch.cuda.is_available() else \"cpu\")\n",
    "print(device)"
   ]
  },
  {
   "cell_type": "code",
   "execution_count": 17,
   "metadata": {},
   "outputs": [],
   "source": [
    "class VGG(nn.Module):\n",
    "    def __init__(self, feature_extractor):\n",
    "        super(VGG, self).__init__()\n",
    "        self.feature_extractor = feature_extractor\n",
    "\n",
    "        self.T1_feature_dimension = 64* 64 *3 #1 * 128 * 6 * 6 * 6 # raw T1 data 200*200*200\n",
    "        \n",
    "        feature_dimension = self.T1_feature_dimension\n",
    "\n",
    "        self.classifier = nn.Sequential(\n",
    "            nn.Dropout(), # commented on 20201230\n",
    "            nn.Linear(feature_dimension, 1024), #nn.Linear(feature_dimension, 2048),\n",
    "            nn.ReLU(True),\n",
    "\n",
    "            nn.Dropout(),\n",
    "            nn.Linear(1024, 128), #nn.Linear(2048, 512),\n",
    "            nn.Sigmoid(),\n",
    "            nn.Linear(128, 2), #nn.Linear(512, 2),\n",
    "        )\n",
    "\n",
    "         # Initialize weights\n",
    "        for m in self.modules():\n",
    "            if isinstance(m, nn.Conv3d):\n",
    "                n = m.kernel_size[0] * m.kernel_size[1] * m.kernel_size[2] * m.out_channels\n",
    "                m.weight.data.normal_(0, math.sqrt(2. / n))\n",
    "                m.bias.data.zero_()\n",
    "\n",
    "    def forward(self, x1):\n",
    "        x1 = self.feature_extractor(x1)\n",
    "        x = x1.view(x1.size(0), -1)\n",
    "\n",
    "        x = self.classifier(x)\n",
    "        return x\n",
    "\n",
    "# 5-27-2021\n",
    "class SE_block(nn.Module):\n",
    "    se_ratio = 16\n",
    "    def __init__(self,ch,ratio=se_ratio):\n",
    "        super(SE_block, self).__init__()\n",
    "\n",
    "        # Both should use the same complex number for initiaization which is then split into real and imaginary parts\n",
    "        # Weight initialiation using the real part \n",
    "        self.globalpooling = nn.AdaptiveAvgPool3d(1)\n",
    "        # Weight initialization using the imag part\n",
    "        self.linear1 = nn.Linear(ch,ch//ratio)\n",
    "        self.relu1 = nn.ReLU()\n",
    "        self.lienar2 = nn.Linear(ch//ratio,ch)\n",
    "        self.sigmoid1 = nn.Sigmoid()\n",
    "        self.ch = ch\n",
    "\n",
    "    def forward(self, x):\n",
    "        x_init=x\n",
    "        x1=self.globalpooling(x).squeeze()\n",
    "        x1=self.linear1(x1)\n",
    "        x1=self.relu1(x1)\n",
    "        x1=self.lienar2(x1)\n",
    "        x1=self.sigmoid1(x1).reshape(x.shape[0],self.ch,1,1,1)\n",
    "\n",
    "        return torch.mul(x_init,x1)\n",
    "\n"
   ]
  },
  {
   "cell_type": "code",
   "execution_count": 18,
   "metadata": {},
   "outputs": [],
   "source": [
    "def make_layers(cfg, batch_norm=True, se_block=True):\n",
    "    layers = []\n",
    "    DropoutRate = 0.10\n",
    "\n",
    "    in_channels = 1\n",
    "\n",
    "    for v in cfg:\n",
    "        if v == 'M':\n",
    "            layers += [nn.MaxPool3d(kernel_size=2, stride=2)] # MaxPool without Dropout # commented on 20201230\n",
    "            #layers += [nn.Dropout(p=DropoutRate), nn.MaxPool3d(kernel_size=2, stride=2)] # MaxPool with Dropout rate of 0.25 # commented on 20201230\n",
    "        else:\n",
    "            if batch_norm:\n",
    "                if se_block:\n",
    "                    conv3d = nn.Conv3d(in_channels, v, kernel_size=3, padding=1)\n",
    "                    se3d = SE_block(ch=v)\n",
    "                    layers += [conv3d, nn.BatchNorm3d(v), se3d, nn.ReLU(inplace=True)]\n",
    "                else:\n",
    "                    conv3d = nn.Conv3d(in_channels, v, kernel_size=3, padding=1)\n",
    "                    layers += [conv3d, nn.BatchNorm3d(v), nn.ReLU(inplace=True)]\n",
    "            else:\n",
    "                layers += [conv3d, nn.ReLU(inplace=True)]\n",
    "            in_channels = v\n",
    "    feature_extractor_T1 = nn.Sequential(*layers)\n",
    "\n",
    "    return feature_extractor_T1 \n",
    "\n",
    "cfg = {\n",
    "    'A': [16, 'M', 32, 'M', 64, 64, 'M', 128, 128, 'M', 128, 128], #'A': [32, 'M', 64, 'M', 64, 64, 'M', 128, 128, 'M', 256, 256, 'M'], \n",
    "    'B': [64, 64, 'M', 128, 128, 'M', 256, 256, 'M', 512, 512, 'M', 512, 512, 'M'],\n",
    "    'D': [64, 64, 'M', 128, 128, 'M', 256, 256, 256, 'M', 512, 512, 512, 'M', 512, 512, 512, 'M'],\n",
    "    'E': [16, 16, 'M', 32, 32, 'M', 64, 64, 64, 64, 'M', 128, 128, 128, 128, 'M', \n",
    "          128, 128, 128, 128, 'M'],\n",
    "    'F': [32, 'M', 128, 'M', 512, 'M'],\n",
    "}"
   ]
  },
  {
   "cell_type": "code",
   "execution_count": 19,
   "metadata": {},
   "outputs": [],
   "source": [
    "def vgg19_bn():\n",
    "    \"\"\"VGG 19-layer model (configuration 'E') with batch normalization\"\"\"\n",
    "    return VGG(make_layers(cfg['E']))\n",
    "\n",
    "def vgg16_bn():\n",
    "    \"\"\"VGG 16-layer model (configuration 'D') with batch normalization\"\"\"\n",
    "    return VGG(make_layers(cfg['D']))\n",
    "\n",
    "def vgg11_bn():\n",
    "    \"\"\"VGG 11-layer model (configuration 'A') with batch normalization\"\"\"\n",
    "    return VGG(make_layers(cfg['A']))\n",
    "\n",
    "def vgg6_bn():\n",
    "    \"\"\"VGG 8-layer model (configuration 'F') with batch normalization\"\"\"\n",
    "    return VGG(make_layers(cfg['F']))"
   ]
  },
  {
   "cell_type": "code",
   "execution_count": 20,
   "metadata": {},
   "outputs": [
    {
     "data": {
      "text/plain": [
       "VGG(\n",
       "  (feature_extractor): Sequential(\n",
       "    (0): Conv3d(1, 16, kernel_size=(3, 3, 3), stride=(1, 1, 1), padding=(1, 1, 1))\n",
       "    (1): BatchNorm3d(16, eps=1e-05, momentum=0.1, affine=True, track_running_stats=True)\n",
       "    (2): SE_block(\n",
       "      (globalpooling): AdaptiveAvgPool3d(output_size=1)\n",
       "      (linear1): Linear(in_features=16, out_features=1, bias=True)\n",
       "      (relu1): ReLU()\n",
       "      (lienar2): Linear(in_features=1, out_features=16, bias=True)\n",
       "      (sigmoid1): Sigmoid()\n",
       "    )\n",
       "    (3): ReLU(inplace=True)\n",
       "    (4): MaxPool3d(kernel_size=2, stride=2, padding=0, dilation=1, ceil_mode=False)\n",
       "    (5): Conv3d(16, 32, kernel_size=(3, 3, 3), stride=(1, 1, 1), padding=(1, 1, 1))\n",
       "    (6): BatchNorm3d(32, eps=1e-05, momentum=0.1, affine=True, track_running_stats=True)\n",
       "    (7): SE_block(\n",
       "      (globalpooling): AdaptiveAvgPool3d(output_size=1)\n",
       "      (linear1): Linear(in_features=32, out_features=2, bias=True)\n",
       "      (relu1): ReLU()\n",
       "      (lienar2): Linear(in_features=2, out_features=32, bias=True)\n",
       "      (sigmoid1): Sigmoid()\n",
       "    )\n",
       "    (8): ReLU(inplace=True)\n",
       "    (9): MaxPool3d(kernel_size=2, stride=2, padding=0, dilation=1, ceil_mode=False)\n",
       "    (10): Conv3d(32, 64, kernel_size=(3, 3, 3), stride=(1, 1, 1), padding=(1, 1, 1))\n",
       "    (11): BatchNorm3d(64, eps=1e-05, momentum=0.1, affine=True, track_running_stats=True)\n",
       "    (12): SE_block(\n",
       "      (globalpooling): AdaptiveAvgPool3d(output_size=1)\n",
       "      (linear1): Linear(in_features=64, out_features=4, bias=True)\n",
       "      (relu1): ReLU()\n",
       "      (lienar2): Linear(in_features=4, out_features=64, bias=True)\n",
       "      (sigmoid1): Sigmoid()\n",
       "    )\n",
       "    (13): ReLU(inplace=True)\n",
       "    (14): Conv3d(64, 64, kernel_size=(3, 3, 3), stride=(1, 1, 1), padding=(1, 1, 1))\n",
       "    (15): BatchNorm3d(64, eps=1e-05, momentum=0.1, affine=True, track_running_stats=True)\n",
       "    (16): SE_block(\n",
       "      (globalpooling): AdaptiveAvgPool3d(output_size=1)\n",
       "      (linear1): Linear(in_features=64, out_features=4, bias=True)\n",
       "      (relu1): ReLU()\n",
       "      (lienar2): Linear(in_features=4, out_features=64, bias=True)\n",
       "      (sigmoid1): Sigmoid()\n",
       "    )\n",
       "    (17): ReLU(inplace=True)\n",
       "    (18): MaxPool3d(kernel_size=2, stride=2, padding=0, dilation=1, ceil_mode=False)\n",
       "    (19): Conv3d(64, 128, kernel_size=(3, 3, 3), stride=(1, 1, 1), padding=(1, 1, 1))\n",
       "    (20): BatchNorm3d(128, eps=1e-05, momentum=0.1, affine=True, track_running_stats=True)\n",
       "    (21): SE_block(\n",
       "      (globalpooling): AdaptiveAvgPool3d(output_size=1)\n",
       "      (linear1): Linear(in_features=128, out_features=8, bias=True)\n",
       "      (relu1): ReLU()\n",
       "      (lienar2): Linear(in_features=8, out_features=128, bias=True)\n",
       "      (sigmoid1): Sigmoid()\n",
       "    )\n",
       "    (22): ReLU(inplace=True)\n",
       "    (23): Conv3d(128, 128, kernel_size=(3, 3, 3), stride=(1, 1, 1), padding=(1, 1, 1))\n",
       "    (24): BatchNorm3d(128, eps=1e-05, momentum=0.1, affine=True, track_running_stats=True)\n",
       "    (25): SE_block(\n",
       "      (globalpooling): AdaptiveAvgPool3d(output_size=1)\n",
       "      (linear1): Linear(in_features=128, out_features=8, bias=True)\n",
       "      (relu1): ReLU()\n",
       "      (lienar2): Linear(in_features=8, out_features=128, bias=True)\n",
       "      (sigmoid1): Sigmoid()\n",
       "    )\n",
       "    (26): ReLU(inplace=True)\n",
       "    (27): MaxPool3d(kernel_size=2, stride=2, padding=0, dilation=1, ceil_mode=False)\n",
       "    (28): Conv3d(128, 128, kernel_size=(3, 3, 3), stride=(1, 1, 1), padding=(1, 1, 1))\n",
       "    (29): BatchNorm3d(128, eps=1e-05, momentum=0.1, affine=True, track_running_stats=True)\n",
       "    (30): SE_block(\n",
       "      (globalpooling): AdaptiveAvgPool3d(output_size=1)\n",
       "      (linear1): Linear(in_features=128, out_features=8, bias=True)\n",
       "      (relu1): ReLU()\n",
       "      (lienar2): Linear(in_features=8, out_features=128, bias=True)\n",
       "      (sigmoid1): Sigmoid()\n",
       "    )\n",
       "    (31): ReLU(inplace=True)\n",
       "    (32): Conv3d(128, 128, kernel_size=(3, 3, 3), stride=(1, 1, 1), padding=(1, 1, 1))\n",
       "    (33): BatchNorm3d(128, eps=1e-05, momentum=0.1, affine=True, track_running_stats=True)\n",
       "    (34): SE_block(\n",
       "      (globalpooling): AdaptiveAvgPool3d(output_size=1)\n",
       "      (linear1): Linear(in_features=128, out_features=8, bias=True)\n",
       "      (relu1): ReLU()\n",
       "      (lienar2): Linear(in_features=8, out_features=128, bias=True)\n",
       "      (sigmoid1): Sigmoid()\n",
       "    )\n",
       "    (35): ReLU(inplace=True)\n",
       "  )\n",
       "  (classifier): Sequential(\n",
       "    (0): Dropout(p=0.5, inplace=False)\n",
       "    (1): Linear(in_features=12288, out_features=1024, bias=True)\n",
       "    (2): ReLU(inplace=True)\n",
       "    (3): Dropout(p=0.5, inplace=False)\n",
       "    (4): Linear(in_features=1024, out_features=128, bias=True)\n",
       "    (5): Sigmoid()\n",
       "    (6): Linear(in_features=128, out_features=2, bias=True)\n",
       "  )\n",
       ")"
      ]
     },
     "execution_count": 20,
     "metadata": {},
     "output_type": "execute_result"
    }
   ],
   "source": [
    "model = vgg11_bn()\n",
    "model"
   ]
  },
  {
   "cell_type": "code",
   "execution_count": 21,
   "metadata": {},
   "outputs": [],
   "source": [
    "def downsize_transform(data): \n",
    "    target_size = (64, 96, 64)\n",
    "    data = torch.from_numpy(data).unsqueeze(0).unsqueeze(0)\n",
    "    downsampled = torch.nn.functional.interpolate(data, size=target_size, mode='trilinear')\n",
    "\n",
    "    return downsampled.squeeze(0)"
   ]
  },
  {
   "cell_type": "code",
   "execution_count": 22,
   "metadata": {},
   "outputs": [],
   "source": [
    "class CustomDataset(Dataset):\n",
    "    def __init__(self, root_dir, transforms = None):\n",
    "        self.root_dir = root_dir\n",
    "        self.transforms = transforms\n",
    "        self.cn_dir = os.path.join(self.root_dir, \"MNI152_affine_WB_iso1mm/CN\")\n",
    "        self.scz_dir = os.path.join(self.root_dir, \"MNI152_affine_WB_iso1mm/schiz\")\n",
    "        self.samples, self.labels = self._load_samples()\n",
    "\n",
    "    def _load_samples(self):\n",
    "        samples = []\n",
    "        \n",
    "        samples = [file for file in os.listdir(self.cn_dir) if file.endswith(\".nii.gz\")]\n",
    "        labels = [0] * len(samples)\n",
    "        samples += [file for file in os.listdir(self.scz_dir) if file.endswith(\".nii.gz\")]\n",
    "        labels += [1] * (len(samples) - len(labels))\n",
    "\n",
    "        return samples, labels\n",
    "\n",
    "    def __len__(self):\n",
    "        return len(self.samples)\n",
    "\n",
    "    def __getitem__(self, idx):\n",
    "        label = self.labels[idx]\n",
    "        if label == 0:\n",
    "            file_path = os.path.join(self.cn_dir, self.samples[idx])\n",
    "        else:\n",
    "            file_path = os.path.join(self.scz_dir, self.samples[idx])\n",
    "        one_hot_label = torch.zeros(2)\n",
    "        one_hot_label[label] = 1\n",
    "        label = one_hot_label\n",
    "\n",
    "        # Load the NIfTI image\n",
    "        img = nib.load(file_path)\n",
    "\n",
    "        # Get the image data array\n",
    "        img_data = np.float32(img.get_fdata())[0:192, :, 0:192]\n",
    "        if self.transforms:\n",
    "            img_tensor = self.transforms(img_data)\n",
    "        else:\n",
    "            img_tensor = torch.from_numpy(img_data).unsqueeze(0)\n",
    "        return img_tensor, label"
   ]
  },
  {
   "cell_type": "code",
   "execution_count": 23,
   "metadata": {},
   "outputs": [
    {
     "data": {
      "text/plain": [
       "['/media/youzhi/SSD/bme_project/data/fold1',\n",
       " '/media/youzhi/SSD/bme_project/data/fold2',\n",
       " '/media/youzhi/SSD/bme_project/data/fold3',\n",
       " '/media/youzhi/SSD/bme_project/data/fold4',\n",
       " '/media/youzhi/SSD/bme_project/data/fold5',\n",
       " '/media/youzhi/SSD/bme_project/data/fold6',\n",
       " '/media/youzhi/SSD/bme_project/data/fold7',\n",
       " '/media/youzhi/SSD/bme_project/data/fold8',\n",
       " '/media/youzhi/SSD/bme_project/data/fold9',\n",
       " '/media/youzhi/SSD/bme_project/data/fold10']"
      ]
     },
     "execution_count": 23,
     "metadata": {},
     "output_type": "execute_result"
    }
   ],
   "source": [
    "root_dir = \"/media/youzhi/SSD/bme_project/data\"\n",
    "folds_dir = [dir for dir in os.listdir(root_dir) if dir.startswith(\"fold\")]\n",
    "folds_dir = [os.path.join(root_dir, dir) for dir in folds_dir]\n",
    "folds_dir = natsorted(folds_dir)\n",
    "folds_dir"
   ]
  },
  {
   "cell_type": "code",
   "execution_count": 24,
   "metadata": {},
   "outputs": [
    {
     "name": "stdout",
     "output_type": "stream",
     "text": [
      "fold 1 :  196\n",
      "fold 2 :  188\n",
      "fold 3 :  187\n",
      "fold 4 :  185\n",
      "fold 5 :  187\n",
      "fold 6 :  185\n",
      "fold 7 :  187\n",
      "fold 8 :  182\n",
      "fold 9 :  188\n",
      "fold 10 :  187\n"
     ]
    }
   ],
   "source": [
    "dataloaders = []\n",
    "for i in range(len(folds_dir)):\n",
    "    fold_dir = folds_dir[i]\n",
    "    dataset = CustomDataset(fold_dir, downsize_transform) #, downsize_transform)\n",
    "    dataloader = DataLoader(dataset, batch_size=8, shuffle=True)\n",
    "    dataloaders.append(dataloader)\n",
    "    print(\"fold\", i+1, \": \", len(dataset))"
   ]
  },
  {
   "cell_type": "code",
   "execution_count": 25,
   "metadata": {},
   "outputs": [
    {
     "name": "stdout",
     "output_type": "stream",
     "text": [
      "torch.Size([8, 1, 64, 96, 64])\n",
      "<built-in method type of Tensor object at 0x7fc3b89e3e80>\n",
      "tensor([[0., 1.],\n",
      "        [0., 1.],\n",
      "        [0., 1.],\n",
      "        [1., 0.],\n",
      "        [1., 0.],\n",
      "        [0., 1.],\n",
      "        [1., 0.],\n",
      "        [1., 0.]])\n",
      "torch.Size([8, 2])\n"
     ]
    },
    {
     "data": {
      "image/png": "[encoded data removed]",
      "text/plain": [
       "<Figure size 640x480 with 1 Axes>"
      ]
     },
     "metadata": {},
     "output_type": "display_data"
    }
   ],
   "source": [
    "sample = next(iter(dataloaders[0]))\n",
    "plt.imshow(sample[0][0][0][0:64, int(96/2), 0:64], cmap = 'bone')\n",
    "print(sample[0].shape)\n",
    "print(sample[0].type)\n",
    "print(sample[1])\n",
    "print(sample[1].shape)"
   ]
  },
  {
   "cell_type": "code",
   "execution_count": 26,
   "metadata": {},
   "outputs": [],
   "source": [
    "def train_net(net, epochs, train_dataloader, valid_loader, optimizer, loss_function, device, check_pt_dir):\n",
    "    os.makedirs(check_pt_dir, exist_ok=True)\n",
    "    net.to(device)\n",
    "    ret_train_loss = []\n",
    "    ret_valid_loss = []\n",
    "    min_vloss = math.inf\n",
    "\n",
    "    for epoch in range(epochs):\n",
    "        net.train()\n",
    "\n",
    "        train_loss = []\n",
    "        for i, (img, label) in enumerate(train_dataloader):\n",
    "            img= img.to(device)\n",
    "            label = label.to(device)\n",
    "            optimizer.zero_grad()\n",
    "            y_pred = net(img)\n",
    "            loss = loss_function(y_pred, label)\n",
    "            loss.backward()\n",
    "            optimizer.step()\n",
    "\n",
    "            train_loss.append(loss.item())\n",
    "            print(f'{i + 1}/{len(train_dataloader)}| current training loss: {train_loss[-1]}', end='\\r')\n",
    "\n",
    "            # Deleting variables and emptying the cache might not always lead to significant memory savings\n",
    "            # because PyTorch uses a caching memory allocator to improve performance. Consider using it\n",
    "            # judiciously based on the actual memory footprint observed.\n",
    "            del img, label, y_pred, loss\n",
    "            torch.cuda.empty_cache()\n",
    "\n",
    "        train_epoch_loss = np.mean(train_loss)\n",
    "        ret_train_loss.append(train_epoch_loss)\n",
    "        print(f'epoch {epoch}| training loss: {train_epoch_loss}', end='\\r')\n",
    "\n",
    "        # Validation phase\n",
    "        net.eval()\n",
    "        valid_loss = []\n",
    "        with torch.no_grad():\n",
    "            for i, (img, label) in enumerate(valid_loader):\n",
    "                img = img.to(device)\n",
    "                label = label.to(device)\n",
    "                y_pred = net(img)\n",
    "                loss = loss_function(y_pred, label)\n",
    "                valid_loss.append(loss.item())\n",
    "                print(f'{i + 1}/{len(valid_loader)}| current validation loss: {valid_loss[-1]}', end='\\r')\n",
    "\n",
    "                del img, label, y_pred, loss\n",
    "                torch.cuda.empty_cache()\n",
    "\n",
    "        epoch_vloss = np.mean(valid_loss)\n",
    "        if epoch_vloss < min_vloss:\n",
    "            model_filename = f'Epoch_{epoch}_VLoss_{epoch_vloss:.4f}.pth'\n",
    "            model_path = os.path.join(check_pt_dir, model_filename)\n",
    "            torch.save(model.state_dict(), model_path)\n",
    "\n",
    "        print(f\"epoch {epoch} | training loss: {train_epoch_loss:.4f} | validation loss: {epoch_vloss:.4f}\")\n",
    "        ret_valid_loss.append(epoch_vloss)\n",
    "\n",
    "    return ret_train_loss, ret_valid_loss"
   ]
  },
  {
   "cell_type": "code",
   "execution_count": 27,
   "metadata": {},
   "outputs": [],
   "source": [
    "optimizer = optim.Adam(model.parameters(), lr=0.001)\n",
    "loss_function = nn.CrossEntropyLoss()\n",
    "# train_loss , valid_loss = train_net(model, 10, dataloaders[0], dataloaders[1], optimizer, loss_function, device)"
   ]
  },
  {
   "cell_type": "code",
   "execution_count": 30,
   "metadata": {},
   "outputs": [
    {
     "name": "stdout",
     "output_type": "stream",
     "text": [
      "fold 1\n",
      "epoch 0 | training loss: 0.6766 | validation loss: 0.6603\n",
      "2/24| current training loss: 0.6528402566909793\r"
     ]
    },
    {
     "ename": "KeyboardInterrupt",
     "evalue": "",
     "output_type": "error",
     "traceback": [
      "\u001b[0;31m---------------------------------------------------------------------------\u001b[0m",
      "\u001b[0;31mKeyboardInterrupt\u001b[0m                         Traceback (most recent call last)",
      "Cell \u001b[0;32mIn[30], line 12\u001b[0m\n\u001b[1;32m     10\u001b[0m \u001b[38;5;28;01mfor\u001b[39;00m index \u001b[38;5;129;01min\u001b[39;00m train_set:\n\u001b[1;32m     11\u001b[0m     \u001b[38;5;28mprint\u001b[39m(\u001b[38;5;124mf\u001b[39m\u001b[38;5;124m\"\u001b[39m\u001b[38;5;124mfold \u001b[39m\u001b[38;5;132;01m{\u001b[39;00mindex\u001b[38;5;132;01m}\u001b[39;00m\u001b[38;5;124m\"\u001b[39m)\n\u001b[0;32m---> 12\u001b[0m     train_loss, valid_loss \u001b[38;5;241m=\u001b[39m \u001b[43mtrain_net\u001b[49m\u001b[43m(\u001b[49m\u001b[43mmodel\u001b[49m\u001b[43m,\u001b[49m\u001b[43m \u001b[49m\u001b[38;5;241;43m20\u001b[39;49m\u001b[43m,\u001b[49m\u001b[43m \u001b[49m\u001b[43mdataloaders\u001b[49m\u001b[43m[\u001b[49m\u001b[43mindex\u001b[49m\u001b[43m]\u001b[49m\u001b[43m,\u001b[49m\u001b[43m \u001b[49m\u001b[43mvalid_set\u001b[49m\u001b[43m,\u001b[49m\u001b[43m \u001b[49m\u001b[43moptimizer\u001b[49m\u001b[43m,\u001b[49m\u001b[43m \u001b[49m\u001b[43mloss_function\u001b[49m\u001b[43m,\u001b[49m\u001b[43m \u001b[49m\u001b[43mdevice\u001b[49m\u001b[43m,\u001b[49m\u001b[43m \u001b[49m\u001b[43mcheck_dir\u001b[49m\u001b[43m)\u001b[49m\n\u001b[1;32m     13\u001b[0m     overall_train_loss\u001b[38;5;241m.\u001b[39mappend(train_loss)\n\u001b[1;32m     14\u001b[0m     overall_valid_loss\u001b[38;5;241m.\u001b[39mappend(valid_loss)\n",
      "Cell \u001b[0;32mIn[26], line 18\u001b[0m, in \u001b[0;36mtrain_net\u001b[0;34m(net, epochs, train_dataloader, valid_loader, optimizer, loss_function, device, check_pt_dir)\u001b[0m\n\u001b[1;32m     16\u001b[0m y_pred \u001b[38;5;241m=\u001b[39m net(img)\n\u001b[1;32m     17\u001b[0m loss \u001b[38;5;241m=\u001b[39m loss_function(y_pred, label)\n\u001b[0;32m---> 18\u001b[0m \u001b[43mloss\u001b[49m\u001b[38;5;241;43m.\u001b[39;49m\u001b[43mbackward\u001b[49m\u001b[43m(\u001b[49m\u001b[43m)\u001b[49m\n\u001b[1;32m     19\u001b[0m optimizer\u001b[38;5;241m.\u001b[39mstep()\n\u001b[1;32m     21\u001b[0m train_loss\u001b[38;5;241m.\u001b[39mappend(loss\u001b[38;5;241m.\u001b[39mitem())\n",
      "File \u001b[0;32m~/anaconda3/envs/bmeProj/lib/python3.12/site-packages/torch/_tensor.py:522\u001b[0m, in \u001b[0;36mTensor.backward\u001b[0;34m(self, gradient, retain_graph, create_graph, inputs)\u001b[0m\n\u001b[1;32m    512\u001b[0m \u001b[38;5;28;01mif\u001b[39;00m has_torch_function_unary(\u001b[38;5;28mself\u001b[39m):\n\u001b[1;32m    513\u001b[0m     \u001b[38;5;28;01mreturn\u001b[39;00m handle_torch_function(\n\u001b[1;32m    514\u001b[0m         Tensor\u001b[38;5;241m.\u001b[39mbackward,\n\u001b[1;32m    515\u001b[0m         (\u001b[38;5;28mself\u001b[39m,),\n\u001b[0;32m   (...)\u001b[0m\n\u001b[1;32m    520\u001b[0m         inputs\u001b[38;5;241m=\u001b[39minputs,\n\u001b[1;32m    521\u001b[0m     )\n\u001b[0;32m--> 522\u001b[0m \u001b[43mtorch\u001b[49m\u001b[38;5;241;43m.\u001b[39;49m\u001b[43mautograd\u001b[49m\u001b[38;5;241;43m.\u001b[39;49m\u001b[43mbackward\u001b[49m\u001b[43m(\u001b[49m\n\u001b[1;32m    523\u001b[0m \u001b[43m    \u001b[49m\u001b[38;5;28;43mself\u001b[39;49m\u001b[43m,\u001b[49m\u001b[43m \u001b[49m\u001b[43mgradient\u001b[49m\u001b[43m,\u001b[49m\u001b[43m \u001b[49m\u001b[43mretain_graph\u001b[49m\u001b[43m,\u001b[49m\u001b[43m \u001b[49m\u001b[43mcreate_graph\u001b[49m\u001b[43m,\u001b[49m\u001b[43m \u001b[49m\u001b[43minputs\u001b[49m\u001b[38;5;241;43m=\u001b[39;49m\u001b[43minputs\u001b[49m\n\u001b[1;32m    524\u001b[0m \u001b[43m\u001b[49m\u001b[43m)\u001b[49m\n",
      "File \u001b[0;32m~/anaconda3/envs/bmeProj/lib/python3.12/site-packages/torch/autograd/__init__.py:266\u001b[0m, in \u001b[0;36mbackward\u001b[0;34m(tensors, grad_tensors, retain_graph, create_graph, grad_variables, inputs)\u001b[0m\n\u001b[1;32m    261\u001b[0m     retain_graph \u001b[38;5;241m=\u001b[39m create_graph\n\u001b[1;32m    263\u001b[0m \u001b[38;5;66;03m# The reason we repeat the same comment below is that\u001b[39;00m\n\u001b[1;32m    264\u001b[0m \u001b[38;5;66;03m# some Python versions print out the first line of a multi-line function\u001b[39;00m\n\u001b[1;32m    265\u001b[0m \u001b[38;5;66;03m# calls in the traceback and some print out the last line\u001b[39;00m\n\u001b[0;32m--> 266\u001b[0m \u001b[43mVariable\u001b[49m\u001b[38;5;241;43m.\u001b[39;49m\u001b[43m_execution_engine\u001b[49m\u001b[38;5;241;43m.\u001b[39;49m\u001b[43mrun_backward\u001b[49m\u001b[43m(\u001b[49m\u001b[43m  \u001b[49m\u001b[38;5;66;43;03m# Calls into the C++ engine to run the backward pass\u001b[39;49;00m\n\u001b[1;32m    267\u001b[0m \u001b[43m    \u001b[49m\u001b[43mtensors\u001b[49m\u001b[43m,\u001b[49m\n\u001b[1;32m    268\u001b[0m \u001b[43m    \u001b[49m\u001b[43mgrad_tensors_\u001b[49m\u001b[43m,\u001b[49m\n\u001b[1;32m    269\u001b[0m \u001b[43m    \u001b[49m\u001b[43mretain_graph\u001b[49m\u001b[43m,\u001b[49m\n\u001b[1;32m    270\u001b[0m \u001b[43m    \u001b[49m\u001b[43mcreate_graph\u001b[49m\u001b[43m,\u001b[49m\n\u001b[1;32m    271\u001b[0m \u001b[43m    \u001b[49m\u001b[43minputs\u001b[49m\u001b[43m,\u001b[49m\n\u001b[1;32m    272\u001b[0m \u001b[43m    \u001b[49m\u001b[43mallow_unreachable\u001b[49m\u001b[38;5;241;43m=\u001b[39;49m\u001b[38;5;28;43;01mTrue\u001b[39;49;00m\u001b[43m,\u001b[49m\n\u001b[1;32m    273\u001b[0m \u001b[43m    \u001b[49m\u001b[43maccumulate_grad\u001b[49m\u001b[38;5;241;43m=\u001b[39;49m\u001b[38;5;28;43;01mTrue\u001b[39;49;00m\u001b[43m,\u001b[49m\n\u001b[1;32m    274\u001b[0m \u001b[43m\u001b[49m\u001b[43m)\u001b[49m\n",
      "\u001b[0;31mKeyboardInterrupt\u001b[0m: "
     ]
    }
   ],
   "source": [
    "check_dir = \"/media/youzhi/SSD/bme_project/checkpoints\"\n",
    "temp_dir = \"/media/youzhi/SSD/bme_project/checkpoints/temp.pth\"\n",
    "overall_train_loss = []\n",
    "overall_valid_loss = []\n",
    "torch.save(model.state_dict(), temp_dir)\n",
    "for i in range(9):\n",
    "    valid_set = dataloaders[i]\n",
    "    train_set = [index for index in range(9)if index != i]\n",
    "    model.load_state_dict(torch.load(temp_dir))\n",
    "    for index in train_set:\n",
    "        print(f\"fold {index}\")\n",
    "        train_loss, valid_loss = train_net(model, 20, dataloaders[index], valid_set, optimizer, loss_function, device, check_dir)\n",
    "        overall_train_loss.append(train_loss)\n",
    "        overall_valid_loss.append(valid_loss)"
   ]
  },
  {
   "cell_type": "code",
   "execution_count": 15,
   "metadata": {},
   "outputs": [],
   "source": [
    "torch.save(model.state_dict(), \"model34min.pth\")"
   ]
  },
  {
   "cell_type": "code",
   "execution_count": 14,
   "metadata": {},
   "outputs": [
    {
     "data": {
      "text/plain": [
       "tensor([[ 0.1829, -0.7429],\n",
       "        [-0.3426, -0.1606],\n",
       "        [ 0.1829, -0.7429],\n",
       "        [-0.3427, -0.1605],\n",
       "        [-0.3426, -0.1606],\n",
       "        [-0.3427, -0.1606],\n",
       "        [-0.3426, -0.1606],\n",
       "        [ 0.1829, -0.7429]], device='cuda:0', grad_fn=<AddmmBackward0>)"
      ]
     },
     "execution_count": 14,
     "metadata": {},
     "output_type": "execute_result"
    }
   ],
   "source": [
    "model(sample[0].to(device))"
   ]
  },
  {
   "cell_type": "code",
   "execution_count": 16,
   "metadata": {},
   "outputs": [],
   "source": [
    "def test_net(net, test_dataloader):\n",
    "    net.eval()\n",
    "    predictions = []\n",
    "    labels = []\n",
    "    with torch.no_grad():\n",
    "        for i, (img, label) in enumerate(test_dataloader):\n",
    "            img = img.to(device)\n",
    "            y_pred = net(img)\n",
    "            labels.append(label.numpy())\n",
    "            predictions.append(y_pred.cpu().numpy())\n",
    "    predictions = np.concatenate(predictions)\n",
    "    labels = np.concatenate(labels)\n",
    "    return predictions, labels\n"
   ]
  },
  {
   "cell_type": "code",
   "execution_count": 17,
   "metadata": {},
   "outputs": [],
   "source": [
    "pred, labels = test_net(model, dataloaders[2])"
   ]
  },
  {
   "cell_type": "code",
   "execution_count": 25,
   "metadata": {},
   "outputs": [
    {
     "name": "stdout",
     "output_type": "stream",
     "text": [
      "[[40 66]\n",
      " [14 67]]\n"
     ]
    }
   ],
   "source": [
    "pred_labels = np.argmax(pred, axis=1)\n",
    "true_labels = np.argmax(labels, axis=1)\n",
    "cm = confusion_matrix(true_labels, pred_labels)\n",
    "print(cm)"
   ]
  },
  {
   "cell_type": "code",
   "execution_count": 29,
   "metadata": {},
   "outputs": [
    {
     "data": {
      "image/png": "[encoded data removed]",
      "text/plain": [
       "<Figure size 800x600 with 2 Axes>"
      ]
     },
     "metadata": {},
     "output_type": "display_data"
    }
   ],
   "source": [
    "\n",
    "# Set up figure\n",
    "plt.figure(figsize=(8, 6))\n",
    "\n",
    "# Use Seaborn to create a heatmap\n",
    "sns.heatmap(cm, annot=True, fmt=\"d\", cmap=\"Blues\", xticklabels=['Negative', 'Positive'], yticklabels=['Negative', 'Positive'])\n",
    "\n",
    "plt.title('Confusion Matrix')\n",
    "plt.xlabel('Predicted Label')\n",
    "plt.ylabel('True Label')\n",
    "plt.show()"
   ]
  },
  {
   "cell_type": "code",
   "execution_count": 18,
   "metadata": {},
   "outputs": [
    {
     "ename": "ValueError",
     "evalue": "multilabel-indicator format is not supported",
     "output_type": "error",
     "traceback": [
      "\u001b[0;31m---------------------------------------------------------------------------\u001b[0m",
      "\u001b[0;31mValueError\u001b[0m                                Traceback (most recent call last)",
      "Cell \u001b[0;32mIn[18], line 1\u001b[0m\n\u001b[0;32m----> 1\u001b[0m fpr, tpr, thres \u001b[38;5;241m=\u001b[39m \u001b[43mroc_curve\u001b[49m\u001b[43m(\u001b[49m\u001b[43mlabels\u001b[49m\u001b[43m,\u001b[49m\u001b[43m \u001b[49m\u001b[43mpred\u001b[49m\u001b[43m)\u001b[49m\n\u001b[1;32m      2\u001b[0m roc_auc \u001b[38;5;241m=\u001b[39m roc_auc_score(labels, pred)  \u001b[38;5;66;03m# Calculate the ROC AUC score\u001b[39;00m\n\u001b[1;32m      4\u001b[0m plt\u001b[38;5;241m.\u001b[39mfigure(figsize\u001b[38;5;241m=\u001b[39m(\u001b[38;5;241m8\u001b[39m, \u001b[38;5;241m6\u001b[39m))\n",
      "File \u001b[0;32m~/anaconda3/envs/bmeProj/lib/python3.12/site-packages/sklearn/utils/_param_validation.py:213\u001b[0m, in \u001b[0;36mvalidate_params.<locals>.decorator.<locals>.wrapper\u001b[0;34m(*args, **kwargs)\u001b[0m\n\u001b[1;32m    207\u001b[0m \u001b[38;5;28;01mtry\u001b[39;00m:\n\u001b[1;32m    208\u001b[0m     \u001b[38;5;28;01mwith\u001b[39;00m config_context(\n\u001b[1;32m    209\u001b[0m         skip_parameter_validation\u001b[38;5;241m=\u001b[39m(\n\u001b[1;32m    210\u001b[0m             prefer_skip_nested_validation \u001b[38;5;129;01mor\u001b[39;00m global_skip_validation\n\u001b[1;32m    211\u001b[0m         )\n\u001b[1;32m    212\u001b[0m     ):\n\u001b[0;32m--> 213\u001b[0m         \u001b[38;5;28;01mreturn\u001b[39;00m \u001b[43mfunc\u001b[49m\u001b[43m(\u001b[49m\u001b[38;5;241;43m*\u001b[39;49m\u001b[43margs\u001b[49m\u001b[43m,\u001b[49m\u001b[43m \u001b[49m\u001b[38;5;241;43m*\u001b[39;49m\u001b[38;5;241;43m*\u001b[39;49m\u001b[43mkwargs\u001b[49m\u001b[43m)\u001b[49m\n\u001b[1;32m    214\u001b[0m \u001b[38;5;28;01mexcept\u001b[39;00m InvalidParameterError \u001b[38;5;28;01mas\u001b[39;00m e:\n\u001b[1;32m    215\u001b[0m     \u001b[38;5;66;03m# When the function is just a wrapper around an estimator, we allow\u001b[39;00m\n\u001b[1;32m    216\u001b[0m     \u001b[38;5;66;03m# the function to delegate validation to the estimator, but we replace\u001b[39;00m\n\u001b[1;32m    217\u001b[0m     \u001b[38;5;66;03m# the name of the estimator by the name of the function in the error\u001b[39;00m\n\u001b[1;32m    218\u001b[0m     \u001b[38;5;66;03m# message to avoid confusion.\u001b[39;00m\n\u001b[1;32m    219\u001b[0m     msg \u001b[38;5;241m=\u001b[39m re\u001b[38;5;241m.\u001b[39msub(\n\u001b[1;32m    220\u001b[0m         \u001b[38;5;124mr\u001b[39m\u001b[38;5;124m\"\u001b[39m\u001b[38;5;124mparameter of \u001b[39m\u001b[38;5;124m\\\u001b[39m\u001b[38;5;124mw+ must be\u001b[39m\u001b[38;5;124m\"\u001b[39m,\n\u001b[1;32m    221\u001b[0m         \u001b[38;5;124mf\u001b[39m\u001b[38;5;124m\"\u001b[39m\u001b[38;5;124mparameter of \u001b[39m\u001b[38;5;132;01m{\u001b[39;00mfunc\u001b[38;5;241m.\u001b[39m\u001b[38;5;18m__qualname__\u001b[39m\u001b[38;5;132;01m}\u001b[39;00m\u001b[38;5;124m must be\u001b[39m\u001b[38;5;124m\"\u001b[39m,\n\u001b[1;32m    222\u001b[0m         \u001b[38;5;28mstr\u001b[39m(e),\n\u001b[1;32m    223\u001b[0m     )\n",
      "File \u001b[0;32m~/anaconda3/envs/bmeProj/lib/python3.12/site-packages/sklearn/metrics/_ranking.py:1108\u001b[0m, in \u001b[0;36mroc_curve\u001b[0;34m(y_true, y_score, pos_label, sample_weight, drop_intermediate)\u001b[0m\n\u001b[1;32m   1006\u001b[0m \u001b[38;5;129m@validate_params\u001b[39m(\n\u001b[1;32m   1007\u001b[0m     {\n\u001b[1;32m   1008\u001b[0m         \u001b[38;5;124m\"\u001b[39m\u001b[38;5;124my_true\u001b[39m\u001b[38;5;124m\"\u001b[39m: [\u001b[38;5;124m\"\u001b[39m\u001b[38;5;124marray-like\u001b[39m\u001b[38;5;124m\"\u001b[39m],\n\u001b[0;32m   (...)\u001b[0m\n\u001b[1;32m   1017\u001b[0m     y_true, y_score, \u001b[38;5;241m*\u001b[39m, pos_label\u001b[38;5;241m=\u001b[39m\u001b[38;5;28;01mNone\u001b[39;00m, sample_weight\u001b[38;5;241m=\u001b[39m\u001b[38;5;28;01mNone\u001b[39;00m, drop_intermediate\u001b[38;5;241m=\u001b[39m\u001b[38;5;28;01mTrue\u001b[39;00m\n\u001b[1;32m   1018\u001b[0m ):\n\u001b[1;32m   1019\u001b[0m \u001b[38;5;250m    \u001b[39m\u001b[38;5;124;03m\"\"\"Compute Receiver operating characteristic (ROC).\u001b[39;00m\n\u001b[1;32m   1020\u001b[0m \n\u001b[1;32m   1021\u001b[0m \u001b[38;5;124;03m    Note: this implementation is restricted to the binary classification task.\u001b[39;00m\n\u001b[0;32m   (...)\u001b[0m\n\u001b[1;32m   1106\u001b[0m \u001b[38;5;124;03m    array([ inf, 0.8 , 0.4 , 0.35, 0.1 ])\u001b[39;00m\n\u001b[1;32m   1107\u001b[0m \u001b[38;5;124;03m    \"\"\"\u001b[39;00m\n\u001b[0;32m-> 1108\u001b[0m     fps, tps, thresholds \u001b[38;5;241m=\u001b[39m \u001b[43m_binary_clf_curve\u001b[49m\u001b[43m(\u001b[49m\n\u001b[1;32m   1109\u001b[0m \u001b[43m        \u001b[49m\u001b[43my_true\u001b[49m\u001b[43m,\u001b[49m\u001b[43m \u001b[49m\u001b[43my_score\u001b[49m\u001b[43m,\u001b[49m\u001b[43m \u001b[49m\u001b[43mpos_label\u001b[49m\u001b[38;5;241;43m=\u001b[39;49m\u001b[43mpos_label\u001b[49m\u001b[43m,\u001b[49m\u001b[43m \u001b[49m\u001b[43msample_weight\u001b[49m\u001b[38;5;241;43m=\u001b[39;49m\u001b[43msample_weight\u001b[49m\n\u001b[1;32m   1110\u001b[0m \u001b[43m    \u001b[49m\u001b[43m)\u001b[49m\n\u001b[1;32m   1112\u001b[0m     \u001b[38;5;66;03m# Attempt to drop thresholds corresponding to points in between and\u001b[39;00m\n\u001b[1;32m   1113\u001b[0m     \u001b[38;5;66;03m# collinear with other points. These are always suboptimal and do not\u001b[39;00m\n\u001b[1;32m   1114\u001b[0m     \u001b[38;5;66;03m# appear on a plotted ROC curve (and thus do not affect the AUC).\u001b[39;00m\n\u001b[0;32m   (...)\u001b[0m\n\u001b[1;32m   1119\u001b[0m     \u001b[38;5;66;03m# but does not drop more complicated cases like fps = [1, 3, 7],\u001b[39;00m\n\u001b[1;32m   1120\u001b[0m     \u001b[38;5;66;03m# tps = [1, 2, 4]; there is no harm in keeping too many thresholds.\u001b[39;00m\n\u001b[1;32m   1121\u001b[0m     \u001b[38;5;28;01mif\u001b[39;00m drop_intermediate \u001b[38;5;129;01mand\u001b[39;00m \u001b[38;5;28mlen\u001b[39m(fps) \u001b[38;5;241m>\u001b[39m \u001b[38;5;241m2\u001b[39m:\n",
      "File \u001b[0;32m~/anaconda3/envs/bmeProj/lib/python3.12/site-packages/sklearn/metrics/_ranking.py:817\u001b[0m, in \u001b[0;36m_binary_clf_curve\u001b[0;34m(y_true, y_score, pos_label, sample_weight)\u001b[0m\n\u001b[1;32m    815\u001b[0m y_type \u001b[38;5;241m=\u001b[39m type_of_target(y_true, input_name\u001b[38;5;241m=\u001b[39m\u001b[38;5;124m\"\u001b[39m\u001b[38;5;124my_true\u001b[39m\u001b[38;5;124m\"\u001b[39m)\n\u001b[1;32m    816\u001b[0m \u001b[38;5;28;01mif\u001b[39;00m \u001b[38;5;129;01mnot\u001b[39;00m (y_type \u001b[38;5;241m==\u001b[39m \u001b[38;5;124m\"\u001b[39m\u001b[38;5;124mbinary\u001b[39m\u001b[38;5;124m\"\u001b[39m \u001b[38;5;129;01mor\u001b[39;00m (y_type \u001b[38;5;241m==\u001b[39m \u001b[38;5;124m\"\u001b[39m\u001b[38;5;124mmulticlass\u001b[39m\u001b[38;5;124m\"\u001b[39m \u001b[38;5;129;01mand\u001b[39;00m pos_label \u001b[38;5;129;01mis\u001b[39;00m \u001b[38;5;129;01mnot\u001b[39;00m \u001b[38;5;28;01mNone\u001b[39;00m)):\n\u001b[0;32m--> 817\u001b[0m     \u001b[38;5;28;01mraise\u001b[39;00m \u001b[38;5;167;01mValueError\u001b[39;00m(\u001b[38;5;124m\"\u001b[39m\u001b[38;5;132;01m{0}\u001b[39;00m\u001b[38;5;124m format is not supported\u001b[39m\u001b[38;5;124m\"\u001b[39m\u001b[38;5;241m.\u001b[39mformat(y_type))\n\u001b[1;32m    819\u001b[0m check_consistent_length(y_true, y_score, sample_weight)\n\u001b[1;32m    820\u001b[0m y_true \u001b[38;5;241m=\u001b[39m column_or_1d(y_true)\n",
      "\u001b[0;31mValueError\u001b[0m: multilabel-indicator format is not supported"
     ]
    }
   ],
   "source": [
    "fpr, tpr, thres = roc_curve(labels, pred)\n",
    "roc_auc = roc_auc_score(labels, pred)  # Calculate the ROC AUC score\n",
    "\n",
    "plt.figure(figsize=(8, 6))\n",
    "plt.plot(fpr, tpr, color='darkorange', lw=2, label=f'ROC curve (area = {roc_auc:.2f})')  # Include the AUC score in the label\n",
    "plt.plot([0, 1], [0, 1], color='navy', lw=2, linestyle='--')\n",
    "plt.xlim([0.0, 1.0])\n",
    "plt.ylim([0.0, 1.05])\n",
    "plt.xlabel('False Positive Rate')\n",
    "plt.ylabel('True Positive Rate')\n",
    "plt.title('Receiver Operating Characteristic (ROC) Curve')\n",
    "plt.legend(loc=\"lower right\")\n",
    "plt.show()"
   ]
  }
 ],
 "metadata": {
  "kernelspec": {
   "display_name": "bmeProj",
   "language": "python",
   "name": "python3"
  },
  "language_info": {
   "codemirror_mode": {
    "name": "ipython",
    "version": 3
   },
   "file_extension": ".py",
   "mimetype": "text/x-python",
   "name": "python",
   "nbconvert_exporter": "python",
   "pygments_lexer": "ipython3",
   "version": "3.12.2"
  }
 },
 "nbformat": 4,
 "nbformat_minor": 2
}
